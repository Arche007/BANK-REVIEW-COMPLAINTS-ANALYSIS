{
 "cells": [
  {
   "cell_type": "code",
   "execution_count": 280,
   "metadata": {},
   "outputs": [],
   "source": [
    "#Importing necessary libraries\n",
    "\n",
    "\n",
    "import numpy as np\n",
    "import pandas as pd\n",
    "import matplotlib.pyplot as plt\n",
    "%matplotlib inline\n",
    "import re\n",
    "import nltk\n",
    "from nltk.corpus import stopwords"
   ]
  },
  {
   "cell_type": "code",
   "execution_count": 2,
   "metadata": {},
   "outputs": [
    {
     "name": "stdout",
     "output_type": "stream",
     "text": [
      "C:\\Users\\Akshay\\Desktop\\Data_Science\\Final Project\\Bank Reviews\n"
     ]
    }
   ],
   "source": [
    "#Setting new working directory\n",
    "\n",
    "%cd C:\\Users\\Akshay\\Desktop\\Data_Science\\Final Project\\Bank Reviews"
   ]
  },
  {
   "cell_type": "code",
   "execution_count": 22,
   "metadata": {},
   "outputs": [],
   "source": [
    "#Reading the data\n",
    "\n",
    "data=pd.read_excel('BankReviews.xlsx')"
   ]
  },
  {
   "cell_type": "code",
   "execution_count": 23,
   "metadata": {},
   "outputs": [
    {
     "data": {
      "text/html": [
       "<div>\n",
       "<style scoped>\n",
       "    .dataframe tbody tr th:only-of-type {\n",
       "        vertical-align: middle;\n",
       "    }\n",
       "\n",
       "    .dataframe tbody tr th {\n",
       "        vertical-align: top;\n",
       "    }\n",
       "\n",
       "    .dataframe thead th {\n",
       "        text-align: right;\n",
       "    }\n",
       "</style>\n",
       "<table border=\"1\" class=\"dataframe\">\n",
       "  <thead>\n",
       "    <tr style=\"text-align: right;\">\n",
       "      <th></th>\n",
       "      <th>Date</th>\n",
       "      <th>Stars</th>\n",
       "      <th>Reviews</th>\n",
       "      <th>BankName</th>\n",
       "    </tr>\n",
       "  </thead>\n",
       "  <tbody>\n",
       "    <tr>\n",
       "      <th>0</th>\n",
       "      <td>2017-04-10</td>\n",
       "      <td>5</td>\n",
       "      <td>Great job, Wyndham Capital! Each person was pr...</td>\n",
       "      <td>Wyndham Capital Mortgage</td>\n",
       "    </tr>\n",
       "    <tr>\n",
       "      <th>1</th>\n",
       "      <td>2017-02-10</td>\n",
       "      <td>5</td>\n",
       "      <td>Matthew Richardson is professional and helpful...</td>\n",
       "      <td>Wyndham Capital Mortgage</td>\n",
       "    </tr>\n",
       "    <tr>\n",
       "      <th>2</th>\n",
       "      <td>2017-08-21</td>\n",
       "      <td>5</td>\n",
       "      <td>We had a past experience with Wyndham Mortgage...</td>\n",
       "      <td>Wyndham Capital Mortgage</td>\n",
       "    </tr>\n",
       "    <tr>\n",
       "      <th>3</th>\n",
       "      <td>2017-12-17</td>\n",
       "      <td>5</td>\n",
       "      <td>We have been dealing with Brad Thomka from the...</td>\n",
       "      <td>Wyndham Capital Mortgage</td>\n",
       "    </tr>\n",
       "    <tr>\n",
       "      <th>4</th>\n",
       "      <td>2016-05-27</td>\n",
       "      <td>5</td>\n",
       "      <td>I can't express how grateful I am for the supp...</td>\n",
       "      <td>Wyndham Capital Mortgage</td>\n",
       "    </tr>\n",
       "  </tbody>\n",
       "</table>\n",
       "</div>"
      ],
      "text/plain": [
       "        Date  Stars                                            Reviews  \\\n",
       "0 2017-04-10      5  Great job, Wyndham Capital! Each person was pr...   \n",
       "1 2017-02-10      5  Matthew Richardson is professional and helpful...   \n",
       "2 2017-08-21      5  We had a past experience with Wyndham Mortgage...   \n",
       "3 2017-12-17      5  We have been dealing with Brad Thomka from the...   \n",
       "4 2016-05-27      5  I can't express how grateful I am for the supp...   \n",
       "\n",
       "                   BankName  \n",
       "0  Wyndham Capital Mortgage  \n",
       "1  Wyndham Capital Mortgage  \n",
       "2  Wyndham Capital Mortgage  \n",
       "3  Wyndham Capital Mortgage  \n",
       "4  Wyndham Capital Mortgage  "
      ]
     },
     "execution_count": 23,
     "metadata": {},
     "output_type": "execute_result"
    }
   ],
   "source": [
    "data.head()"
   ]
  },
  {
   "cell_type": "code",
   "execution_count": 24,
   "metadata": {},
   "outputs": [],
   "source": [
    "#As we have binary category i.e 5 or 1 , so making it 1 or 0 for easy interpretation and calculation\n",
    "\n",
    "data['Stars']=data['Stars'].map({5:1,1:0})"
   ]
  },
  {
   "cell_type": "code",
   "execution_count": 25,
   "metadata": {},
   "outputs": [
    {
     "data": {
      "text/html": [
       "<div>\n",
       "<style scoped>\n",
       "    .dataframe tbody tr th:only-of-type {\n",
       "        vertical-align: middle;\n",
       "    }\n",
       "\n",
       "    .dataframe tbody tr th {\n",
       "        vertical-align: top;\n",
       "    }\n",
       "\n",
       "    .dataframe thead th {\n",
       "        text-align: right;\n",
       "    }\n",
       "</style>\n",
       "<table border=\"1\" class=\"dataframe\">\n",
       "  <thead>\n",
       "    <tr style=\"text-align: right;\">\n",
       "      <th></th>\n",
       "      <th>Date</th>\n",
       "      <th>Stars</th>\n",
       "      <th>Reviews</th>\n",
       "      <th>BankName</th>\n",
       "    </tr>\n",
       "  </thead>\n",
       "  <tbody>\n",
       "    <tr>\n",
       "      <th>0</th>\n",
       "      <td>2017-04-10</td>\n",
       "      <td>1</td>\n",
       "      <td>Great job, Wyndham Capital! Each person was pr...</td>\n",
       "      <td>Wyndham Capital Mortgage</td>\n",
       "    </tr>\n",
       "    <tr>\n",
       "      <th>1</th>\n",
       "      <td>2017-02-10</td>\n",
       "      <td>1</td>\n",
       "      <td>Matthew Richardson is professional and helpful...</td>\n",
       "      <td>Wyndham Capital Mortgage</td>\n",
       "    </tr>\n",
       "    <tr>\n",
       "      <th>2</th>\n",
       "      <td>2017-08-21</td>\n",
       "      <td>1</td>\n",
       "      <td>We had a past experience with Wyndham Mortgage...</td>\n",
       "      <td>Wyndham Capital Mortgage</td>\n",
       "    </tr>\n",
       "    <tr>\n",
       "      <th>3</th>\n",
       "      <td>2017-12-17</td>\n",
       "      <td>1</td>\n",
       "      <td>We have been dealing with Brad Thomka from the...</td>\n",
       "      <td>Wyndham Capital Mortgage</td>\n",
       "    </tr>\n",
       "    <tr>\n",
       "      <th>4</th>\n",
       "      <td>2016-05-27</td>\n",
       "      <td>1</td>\n",
       "      <td>I can't express how grateful I am for the supp...</td>\n",
       "      <td>Wyndham Capital Mortgage</td>\n",
       "    </tr>\n",
       "  </tbody>\n",
       "</table>\n",
       "</div>"
      ],
      "text/plain": [
       "        Date  Stars                                            Reviews  \\\n",
       "0 2017-04-10      1  Great job, Wyndham Capital! Each person was pr...   \n",
       "1 2017-02-10      1  Matthew Richardson is professional and helpful...   \n",
       "2 2017-08-21      1  We had a past experience with Wyndham Mortgage...   \n",
       "3 2017-12-17      1  We have been dealing with Brad Thomka from the...   \n",
       "4 2016-05-27      1  I can't express how grateful I am for the supp...   \n",
       "\n",
       "                   BankName  \n",
       "0  Wyndham Capital Mortgage  \n",
       "1  Wyndham Capital Mortgage  \n",
       "2  Wyndham Capital Mortgage  \n",
       "3  Wyndham Capital Mortgage  \n",
       "4  Wyndham Capital Mortgage  "
      ]
     },
     "execution_count": 25,
     "metadata": {},
     "output_type": "execute_result"
    }
   ],
   "source": [
    "#Brief look of the data\n",
    "\n",
    "data.head()"
   ]
  },
  {
   "cell_type": "markdown",
   "metadata": {},
   "source": [
    "### Data PreProcessing"
   ]
  },
  {
   "cell_type": "code",
   "execution_count": 26,
   "metadata": {},
   "outputs": [],
   "source": [
    "#Seperating into independent (X) variables and dependent (y) variable\n",
    "#Date variable is insignificant here\n",
    "#BankName is also insignificant as the buisness problem does not ask prediction considering specific Banks\n",
    "\n",
    "X=data['Reviews']\n",
    "y=data['Stars']"
   ]
  },
  {
   "cell_type": "code",
   "execution_count": 200,
   "metadata": {},
   "outputs": [],
   "source": [
    "# Creating the corpus\n",
    "\n",
    "corpus = []\n",
    "for i in range(0, len(X)):\n",
    "    review = re.sub(r'\\W', ' ', str(X[i])) #removing all special symbols except\n",
    "    review = review.lower()\n",
    "    review = re.sub(r'^br$', ' ', review) \n",
    "    review = re.sub(r'\\s+[a-z]\\s+', ' ',review)\n",
    "    review = re.sub(r'^[a-z]\\s+', '', review)\n",
    "    review=re.sub(r'[0-9]',' ',review)\n",
    "    \n",
    "    review = re.sub(r'\\s+', ' ', review) #Removing extra spaces between words\n",
    "    corpus.append(review) "
   ]
  },
  {
   "cell_type": "code",
   "execution_count": 203,
   "metadata": {},
   "outputs": [],
   "source": [
    "#Removing all unimportant english words because they don not contribute to preditions \n",
    "\n",
    "from nltk.corpus import stopwords\n",
    "for i in range(len(corpus)):\n",
    "    words = nltk.word_tokenize(corpus[i])\n",
    "    words = [word for word in words if word not in stopwords.words('english')]\n",
    "    corpus[i] = ' '.join(words)               "
   ]
  },
  {
   "cell_type": "code",
   "execution_count": 205,
   "metadata": {},
   "outputs": [
    {
     "data": {
      "text/plain": [
       "['great job wyndham capital person professional helped us move refinance process smoothly thank',\n",
       " 'matthew richardson professional helpful helped us find correct product mortgage thank much excellent service matthew',\n",
       " 'past experience wyndham mortgage would without question use needed wyndham went beyond extra mile right wrong encountered servicer dealing previous loan pulled together found viable option us ultimately saved us money would highly recommend brad thomka wyndham capital mortgage team mortgage needs sincerest thanks wyndham ed lind',\n",
       " 'dealing brad thomka beginning started stressful time us help brad entire wyndham mortgage team turned happy ending brad wyndham went beyond extra mile right wrong encountered servicer dealing previous loan pulled together found viable option us ultimately saved us money indebted would highly recommend brad thomka wyndham capital mortgage team mortgage needs sincerest thanks wyndham ed lindread less',\n",
       " 'express grateful support zach provided family home purchase customer service responsiveness professional demeanor second none thorough took time educate process along way highly recommend working zach wyndham capital',\n",
       " 'pleasure working wyndham capital september family making home purchase columbus oh original conversation loan officer underwriting way closing entire team wyndham responsive professional impressed smooth process timely communication given stressful process home buying selling',\n",
       " 'experience mattison beyond greatly professionally done really cares clients needs stays top everything misunderstanding would top overall truly bends back professionally clients wonderful person',\n",
       " 'patrick answered questions email immediately spent lot time making sure got right loan situation portal use extremely easy closed refinance weeks pleased customer service intend using patrick refinance later',\n",
       " 'loved working group people laughed phone always answered questions moved loan along quickly possible knowledgeable staff shopping around lender one lender badmouthed wyndham lost business told wyndham class say anything negative another company get sell',\n",
       " 'great web interface loan application document upload download features quick responses questions concerns willingness communicate almost exclusively via email phone calls always option us',\n",
       " 'working michelle wyndham went really well first time homeowner first refinance feel process smooth successful definitely recommend michelle friends family',\n",
       " 'usten butler brought humanity connection stiff lifeless scary transaction quite possibly largest purchase wife ever make simply want transact faceless institution lot riding picking right house making sure everything would work austen us every step way true austen got us best deal yes also true first starting looking year later found home wanted presence positivity guidance gave us confidence take step move dream home made huge difference family right want kids block happier thanks austen butler help',\n",
       " 'jay easy get hold questions huge lot whole loan process want know everything right provided great service could wanted',\n",
       " 'million friends would recommend wyndham capital especially mark taylor great really help even clock thanks million mark mean heart appreciate everything',\n",
       " 'chaz fantastic throughout entire lending processs share challenges original underwriter fault chase yet stepped quickly rectify issues glue kept deal together challenges first property falling last minute yet chaz kept spirits assisted quickly transitioning new much better property end say enough positive things chaz consummate professional responsive would highly recommend business plan staying touch future opportunities',\n",
       " 'austen awsome every step way refi new home purchase explains best options thoroughly companies use get business repeat customer says',\n",
       " 'salesperson kept pushing cash refi even told looking heloc specifically hangs said quoted better rate td bank ridiculous',\n",
       " 'worst experience ever like never gone process could get complete list documents required every day new request appraiser hired made many mistakes send corrections underwriting process go back make corrections wyndum would continue ask copies documents many documents send times lost filed correctly went different people process would never use awful experience',\n",
       " 'good rate frustrating process constant delays decisions made changed overwhelmed underwriting team week back log rookie mistake related texas law caused additional week wait closing happened almost weeks courteous professional knowledgeable sense urgency would recommend',\n",
       " 'upfront learn mistake trusted loan officer zero point rate option closing loan convinced initially sign good faith estimate higher rate plus lender credit running numbers lower interest favorable asking charge points looks like good words beginning please careful dealing lender',\n",
       " 'initially mortgage broker friendly assertive paper work filled closing loan eminent became increasingly difficult reach broker initiate phone calls seemed call make process move forward took four weeks get copy closing documents payoff credit card',\n",
       " 'initially mortgage broker friendly assertive paper work filled closing loan eminent became increasingly difficult reach broker initiate phone calls seemed call make process move forward took four weeks get copy closing documents payoff credit card',\n",
       " 'worked kory carla nasb superb team provided excellent responsive knowledgeable service throughout entire process complicated process refinance loan hung us entire time great experience working highly recommend use future mortgage needs',\n",
       " 'kory far best loan officer ever worked dealing complicated refinance purchase two different properties cool calm professional extremely knowledgeable throughout entire process use anyone else moving forward level integrity responsiveness second none thanks everything kory',\n",
       " 'expert loan officer well versed va financial impacts loan component changes best worked across home buying selling deals advocated real estate broker state due ability close complicated high pressure deals places top list years business professionally patiently answers detailed questions rally expanded nasb team also stellar support needs handled complicated va loan seemed change every week tried buy antebellum home tough comps retirement military tough income verification five families swapping homes tons contingencies everything along way mattered aaron nasb team got done even weekends closed time best interest rate market added origination fees look pass opportunity work',\n",
       " 'nasb team went beyond family closed important va home loan time despite many changes military retirement challenging antebellum home required entire nasb team pull stops know rules regulations guide us tough va process truly believe would closed time different team recommend nasb home loans especially complicate va loans',\n",
       " 'dallas goodlet entire team deserving special thank professional come closed loan days another competitor originally called saving us thousands current lender real pleasure getting work institution class act like dallas great job',\n",
       " 'comments begin wife point signing completion leader online home mortgage service satisfied origination cost applied lending tree competitive bids several lender matched slightly beat nasb none convincing closing time chose nasb dallas goodlet believability closing sales loan service application process competitive assuring professional timely supportive truthful dallas goodlet brent custer whole nasb team delivered mortgage time price promised completely satisfied appreciative staff product service company kudos',\n",
       " 'working jon amazing experience start offered answers questions since first home purchase jon always phone call away ready help needed made stringent home buying process easy possible would definitely recommend potential buyers work jon know calling ever decide buy another house thanks jon',\n",
       " 'nasb amazing work pre approval process easy informational chose home closed within days agreement date thanks nasb making first home purchase amazing experience',\n",
       " 'jon barrett great asset husband made mortgage loan process extremely simple quick jon knowledgeable helpful patient accurate passing jon name along anyone looking mortgage loan',\n",
       " 'express incredibly awesome experience working bryant small nasb military family purchased refinanced many homes far best experience ever bryant makes easy took time discuss best options us never met bryant mistake authenticity knew instantly nasb going',\n",
       " 'best loan officer could hoped jeff exceeded expectations worked hard get best rate possible highly recommended',\n",
       " 'adam great work refi attention detail made smooth easy transaction several years since gone thru home loan process unsure start talking adam confident one help us refi professional helpful knowledgeable loan process answered questions timely manner would highly recommend adam would hesitate work agai',\n",
       " 'great website knowledgeable responsive always got back us quickly answers questions mortgage process tedious made easy',\n",
       " 'received offers multiple banks lending tree request mortgage alex madewell nasb far best offer made entire process easy knowledgeable closing home seamless surprises would definitely recommend alex madewell nasb anyone looking mortgage',\n",
       " 'rob helpful getting loan closed issues end know still able get done time',\n",
       " 'peter team great work professional prompt responses answered questions somehow got us closing time despite various roadblocks encountered',\n",
       " 'adam came highly recommended first time spoke clear friendly professional knowledgeable worked hard ensure taken care aspects beyond necessary effective communication skills brought personal touch closed sending us hand written note congratulations recommend everyone know buying house',\n",
       " 'closing process va loan went smoothly loan servicing called bank complete disaster set loan automatic payments using clunky website unlike banks business nasb website intuitive provide confirmation entries first months payments automatically debited external account scheduled however escrow amount changed nasb debited old amount account sent deficiency letter balance unlike every bank used amount debit automatically debited nasb sent credit counseling letter telling apply loan payment would charge late payment double deficiency change suggested credit counseling services called servicing department representative told letter sent error everything adjusted account showing current two weeks later received total two voice mail messages mail span minutes nasb default department woman first spoke rude said showed record earlier call problem hung second agent man default department said show made automatic payments nasb system set adjust anything years mortgage payments various banks never experienced incompetence rude service specifically instructed last agent request sell servicing loan another bank capable actually performing customer service veteran',\n",
       " 'miserable experience screwed everything imaginable never accepted responsibility errors wouldnt recommend purchase doghouse much less purchasing new home',\n",
       " 'loan officer happy communicate committed committed communicated us questioned items problems questioned settling rate lock expired idea process unless contacted steve poor poor communication mr kang also sure house would appraise k house talking us loan end appraising causing us refinance lower current mortgage appraiser disorganized called twice pictures forgot used poor comps contacted several times look documents expired could even sign within minutes email notifications good actual settlement sweet competent notary thank goodness done poor process poor communication never recommend nasb already told two people refinancing steer clear',\n",
       " 'started refinance nick things going ok problem credit card fro years earlier must made loan possible would understood never heard called nick several times response even called supervisor response mailed response company want due busness',\n",
       " 'loan started quite well rep donna friendly quick respond questions clearly explained things would unfold sounded great count bank never kept single promise made problem bank times would ask assurance something donna would respond things would completed wished promise violated bank every single time example first second conversation explained donna wife would traveling country weeks beginning loan process would problem get loan closed said close several weeks wife departure weeks later bank ready close happen donna would ask us email documentation would email back within hours depending occasion donna would assure us documentation sent great bank everything needed weeks later would ask additional documentation happened times later process asked repeats earlier documentation earlier documentation provided old tell patterns recured bank care customers incompetent every time complained additional requests promise kept donna told us complaints justified sorry unable unwilling rectify broken promises finally closed weeks initial application imagine long process would taken responded every request bank day made pushed hard get deal done bank treats customers complete disrespect someone owned several properties life received home mortgages different banks honestly say worst mortgage experience ever owe work another bank professional respectful customers could rate bank lower one star',\n",
       " 'lender contacted previous phone number list registering site unprofessional disturbing',\n",
       " 'never write reviews time prevent anyone making mistake mistake using north american savings bank lenders started refinance company assurance would standard refinance without problems would completed minimal amount time communication company',\n",
       " 'started bob ran credit check without knowledge consent agreed use nasb bob told could close less weeks took day closing still asking paperwork day closing household goods unpacked told power attorney could used fly id wife take docs notary fedex back also get bank check send docs accept personal check five days later driving id nc coordinate closing docs already sent sale home sent could send four houses purchased past years stressful read less',\n",
       " 'horrible experience excellent credit plenty income etc nasb rep made tons promises get us sign weeks closing disappeared failed give us lock firm closing date thankfully sensed problems immediately contacted local lender got us loan better terms low',\n",
       " 'rep extremely professional friendly helpful first spoke fact initial round calls thought going select five lending tree lenders plus two banks talked directly sent email lenders saying ok contract signed want select lender lock rate tomorrow please send best current rate fees etc exact loan parameters took rep nasb week respond replied thanks late selected someone else already locked rate following weeks continued receive emails saying ready proceed loan let know closed january th february th got another email guess really ever read emails also told phone missed boat seemed fall deaf ears end round one rates fees competitive though pretty near best bunch',\n",
       " 'working loan consultant nasb told would give rate year fixed loan total closing cost asked send good faith estimate good faith estimate came total closing cost mentioned conversation called exp',\n",
       " 'every way wonderful person business woman considerate goals helping achieve went beyond helping make good decisions well educate options could happy connect process definitely use future needed',\n",
       " 'mary connolly staff well upper management nothing helpful entire process mary special lady took time understood goals helped achieve never made feel uncomfortable nervous situation always available help needed answer found wonderful people work read',\n",
       " 'thanks reliance capital helping us get thought would difficult impossible refinance credit issues past lately working hard improving scores happy reliance capital able work us help guide us throughout process despite less stellar financial situation thanks especially patrick excellent customer service reassurance step way read',\n",
       " 'initially pretty skeptical refinancing home personal family issues devastated credit point felt would waste time since never approved however real need arose dad declining health demanded make room home keep close us give care needs sure expect patrick reliance soon reassured thoroughly delighted pat informed us eligible walk us entire process personally simply superlatives sufficient thank fantastic guidance getting home refinanced took assumed would challenging home refinance successfully navigated us process successful conclusion every single step proved friendly patient polite knowledgeable professional consistently available us remember last company dealt returned calls emails timely manner even personally called weekends items needed attention person ask mortgage broker happily enthusiastically recommend others thanks patrick support assistance read',\n",
       " 'genna englert provided excellent service process smooth fast husband would recommend reliance first capital everyone',\n",
       " 'ritu pleasure work positive energetic knowledgeable willing help run several different options make sure happy plan helped us see process beginning end would work',\n",
       " 'reliance pleasure work refinancing documents provided went start closing weeks vacation week middle would business special mention ritu delight helped keep processing moving quickly',\n",
       " 'receptive thorough quick close',\n",
       " 'easy going extra mile overcoming obstacles truthful honest dependable professional friendly',\n",
       " 'new federal regulations made tedious time consuming process closing costs seemed bit high seemed like spent lot time explaining obvious',\n",
       " 'informative responsive',\n",
       " 'tim pope informative throughout process beginning end unlike lenders made pleasure able experience thanks tim',\n",
       " 'fast easy leave comforts home steven shatz friendly helped us every turn would recommended everyone needs financing go company',\n",
       " 'working agent quick simple little things completed well pleased service result received',\n",
       " 'teddy represents company well communicative patient hard working gets job done',\n",
       " 'teddy ferrell binh lai excellent team members teddy explained everything beginning end honest front required transactions take place answered calls emails timely manner professional excellent communication',\n",
       " 'thank help kelly patience kindness assisting us loan greatly appreciated look forward working together future',\n",
       " 'kelly rasool extremely helpful stressful time family made us feel taken care really cared helping us thank referring family friends future',\n",
       " 'first conversation steve knew understood situation perfectly able help us achieve dream home ownership given realistic expectations beginning steve kept touch us throughout process relief work someone gave us accurate information string us along read',\n",
       " 'staff friendly great work kept well informed throughout process',\n",
       " 'informative responsive',\n",
       " 'tim pope informative throughout process beginning end unlike lenders made pleasure able experience thanks tim',\n",
       " 'fast easy leave comforts home steven shatz friendly helped us every turn would recommended everyone needs financing go company',\n",
       " 'working agent quick simple little things completed well pleased service result received',\n",
       " 'teddy represents company well communicative patient hard working gets job done',\n",
       " 'teddy ferrell binh lai excellent team members teddy explained everything beginning end honest front required transactions take place answered calls emails timely manner professional excellent communication',\n",
       " 'thank help kelly patience kindness assisting us loan greatly appreciated look forward working together future',\n",
       " 'kelly rasool extremely helpful stressful time family made us feel taken care really cared helping us thank referring family friends future',\n",
       " 'first conversation steve knew understood situation perfectly able help us achieve dream home ownership given realistic expectations beginning steve kept touch us throughout process relief work someone gave us accurate information string us along read',\n",
       " 'staff friendly great work kept well informed throughout process',\n",
       " 'pleasure working robert first call kept well informed every step refinancing also made sure understood everything completely fast responding helping questions',\n",
       " 'loan officer jim heisser fantastic day one right case called daily let know process going every day talked felt like talking friend became friends jim talked til closing informative regarding things refi closing went scheduled jim said would guy right money came every detail called make sure things still going along right path let guy go best ever dealt read',\n",
       " 'steven phenomenal job working locate refinance worked family would highly recommend steven recommend friends family well steven worked tirelessly ensure completely satisfied kept loop loan process everyday',\n",
       " 'looking way consolidate current debt submitted loan request lending tree received email steven shatz decided give call see could offer based reviews lending tree started talking knew willing work get best option table settled closed fairly quickly worked issues right side always phone call text email away never delayed returning messages would highly recommend reliance first capital steven shatz mortgage needs read',\n",
       " 'robert best person loan almost makes us wish could kidding amazing person concerned wanted whatever could make experience painless possible would truely recommend friends family thanks robert',\n",
       " 'words express gratitude john spellman absolutely amazing day one treated client although know sure get paid deserved working say enough think reliance extremely lucky patience understanding amazing service knowledge exceeded expectations beyond measure approval closing went quickly head almost spinning read',\n",
       " 'everyone contact reliance knowledgeable professional worked answer questions problem course application dealt quickly solved would recommend reliance anyone',\n",
       " 'spending months trying complete application loan little success found patrick reliance kept informed regular basis happening needed time line closing great experience',\n",
       " 'wesley white worked tirelessly patiently get loan approved closed despite several obstacles challenges responsive reassuring encouraging even complicated situation trust work hard possible help meet goals would definitely call lending needs',\n",
       " 'professional answered returned calls fast great communication whole process',\n",
       " 'buyer beware make short sweet shop around find someone knows talking certain expenses pay closing assured would get refund reliance would pay would reflect final closing documents happen termite inspection required va told would get back nope answer oh rules changed time back know also told closed late reliance would pick late fee present mortgage told pay yep paid proceeds pay loan reason refinance send check payable lender overnight lender get hit another late fee could electronic payment happy read',\n",
       " 'team aware critical information delayed refinancing several months finally upon completion also several weeks later promised pay checks creditors wrong due late fees next payments chris thomas cordial forthcoming stayed constant contact overall company delays incorrect balances due delays would make impossible recommend company whole read',\n",
       " 'response previous review greg bellezza reliance capital refund appraisal fee',\n",
       " 'use reliance first capitol let kenneth watson help frustrated arrogant every time talked would always say let call back minutes wouldnt hear couple days happened probably times wasnt extremely bad raise credit score took probably month took little months get everything said done lost paper work get redone also motorcycle added consolidation supposed percent payoff well didnt get money pay bike let call title company ill call back min didnt hear called back next day read',\n",
       " 'reliance first capital professional said would day age rare made pleasure business pleased thanks',\n",
       " 'thought seemed nice first played phone tag got letter mail stateing interested would anything file left messages andd emailed incorrect heard since maybe said interested im dier straights need help',\n",
       " 'experience reliance extremely frustrating aggravating first loan mgr asked usual pile paper including prove paid taxes fine wanted copies tax returns could compare since tax auditors unable find copy irs send us transcript sent via po electronically held weeks transcript mailed us irs getting ridiculous irs fax directly still problem authenticity received everything discrepancies yet loan mgr suggested go ahead dummy copy long would match exactly said two separate transcripts accurate could use would walk amazing week later finally approved guy emailed called every day sometimes many times even christmas trip dallas sit wait wonder black hole make annoying demeaning way speaking saying make sense every statement understand basic english one things people say want people feel inferior requested times sent least make sure make sense inability accept irs transcripts sent irs harassment tax copies visiting sons dallas christmas certainly would want friends feel frustration read',\n",
       " 'person spoke kept interrupting telling line rather listening info wanted quite pushy altho said salesman closing costs astronomical',\n",
       " 'based results give star initial conversations course hour provided info based anthony said would give options moving forward next day talked zero options said approved waste credit pull',\n",
       " 'months spoke one person amerisave got information needed decided refi continue get calls reliance whose employees seem know interested means would known clicking one co get information meant cos would call would never looked online information get co stop calling read',\n",
       " 'lisa podorson set closing date three different dates reneged since august ms podorson continued asked documents last minuet return text phone calls entire week return calls decided cancel refinancing contact bbb unprofessional process experience unpleasant read',\n",
       " 'worst lending experience life point contact provided incorrect information start led spend money items appraisal cost quite twice much appraisal company area termite inspection putting charges credit choice close loan pay new debt oh yes one payments made yet yet explain return calls say hello lawyer read',\n",
       " 'feel made promises could keep made mistakes personally cost around would canceled loan different times finances would allowed would recommend company friends',\n",
       " 'awful experience reliance refinancing home would recommend anyone among issues weeks closed still waiting check told would receive closing weeks closing use company',\n",
       " 'slow took months close nd financial disclosure increase borrowing amount servicer said increase due taxes estimated fact increase points thought rate locked want use attorney went without notifying attorney closing notary came house shirt notary said could give legal advice legal questions documents luck despite paying attorney later learned attorney sanctioned nc state bar conduct related real estate closings read',\n",
       " 'experience reliance good st ran hard inquires credit authorize process pursuing potential legal action nd rep corey scheduled appraisal took weeks get back nothing done speed process nd started processs sept jan next year almost still closed still getting request loan processor absolutely ridiculous rd took long close rate offered went even notified got documentation reliance lock initial rate like rd decided use refi errors mistakes made going file better business bureau complaint well complaints experience use read',\n",
       " 'nothing originally stated closing costs much higher told beginning get money back told would complained told estimates even appraisal ended given long list painting work done could get fha approval days paid done switched conventional would recommend friend red flags went throughout process kept going far want start someone else big mistake read',\n",
       " 'requested offers three lenders bank one send us tentative offer review prior sales pitch showed us really wanted get us phone give hard sale reason would recommend proposal speak self without sales pitch doubt would mutually beneficial deal read',\n",
       " 'say enough adam pac ben talk going extra mile holy wow night day difference anyone else considered spoke adam spent soooooo much time including weekends taking questions pretty sure stupid always took time walk explain things thoroughly also wonderfully calm yet passionate knowledgeable yet approachable charming demeanor made mortgage experience much better could remotely expected made could easily unpleasant palatable made sure getting best possible deal scenario took real work one provided better rate moght expect get pay star service best rate get go anywhere else going back adam pac ben time comes know honestly go anyone else thanks adaml read',\n",
       " 'say enough adam bill pac ben talk going extra mile holy wow night day difference anyone else considered spoke adam spent soooooo much time including weekends taking questions pretty sure stupid always took time walk explain things thoroughly also wonderfully calm yet passionate knowledgeable yet approachable charming demeanor made mortgage experience much better could remotely expected made could easily unpleasant palatable made sure getting best possible deal scenario took real work one provided better rate moght expect get pay star service best rate get go anywhere else going back adam pac ben time comes know honestly go anyone else thanks adam bill read',\n",
       " 'jason june team amazing job third refinance pacific beneficial closed weeks impressed would recommend anyone looking mortgage refi ca loan cost appraisal waived thanks guys',\n",
       " 'jason june team amazing job third refinance pacific beneficial closed weeks impressed would recommend anyone looking mortgage refi ca loan cost appraisal waived thanks guys',\n",
       " 'jason june team amazing job third refinance pacific beneficial closed weeks impressed would recommend anyone looking mortgage refi ca loan cost appraisal waived thanks guys',\n",
       " 'shawn organized quick respond transparent personable patient first time home buyer answering questions explaining processes made home buying process painless possible would recommend anyone',\n",
       " 'entire process extremely stressful due circumstances beyond control michele alves adam carrion bill james worked diligently make sure refinance able completed bill james helpful getting messy issues extremely patient questions always felt client pacific beneficial see customer service high caliber often days extremely refreshing would without hesitation recommend pacific beneficial mortgage company anyone read',\n",
       " 'adam team absolutely wonderful several issues refinance caused additional problems adam bill worked hard help us get better position would absolutely reservation recommend adam adam bill patient questions concerns helped refinance go smoothly possible extremely fortunate finding adam bill read',\n",
       " 'adam carrion hands best always answer questions let us know next steps status anytime day night process simple provided items adam team handled everything else best experience refinancing would definitely recommend business future fast simple painless thank read',\n",
       " 'outstanding wife many previous loans past far one best experiences alex jocovic wonderful first phone call end us every step way sales situation complicated exchange involved prior rental new home confusion sill alex jocovic us every day received status progress almost daily many coordination different escrow companies alex jocovic handled everything professionally last least rates offered beat builder finance company builder incentives thanks alex read',\n",
       " 'outstanding wife many previous loans past far one best experiences alex jocovic wonderful first phone call end us every step way sales situation complicated exchange involved prior rental new home confusion sill alex jocovic us every day received status progress almost daily many coordination different escrow companies alex jocovic handled everything professionally last least rates offered beat builder finance company builder incentives thanks alex read',\n",
       " 'easy smooth process',\n",
       " 'great experience andrea helped get mortgage condo irvine compared lenders customer service made difference would definitely recommend anyone looking loan',\n",
       " 'say enough great things loan officer alex jocovic pacific beneficial mortgage company start finish side daily check ins phone calls dealing problems arose handling lot issues came along way great knowing someone back offered great advice along way home purchase stressful scary experience felt confident knowing great hands alex go wrong read',\n",
       " 'say enough great things loan officer alex jocovic pacific beneficial mortgage company start finish side daily check ins phone calls dealing problems arose handling lot issues came along way great knowing someone back offered great advice along way home purchase stressful scary experience felt confident knowing great hands alex go wrong read',\n",
       " 'professional kept us date progress loan accommodating',\n",
       " 'excellent service always called emailed give status loan accommodating',\n",
       " 'felt comfortable working alex alex always patient answering questions promptly returned calls emails even realtor commented pleasant work alex asked find',\n",
       " 'little skeptical using broker familiar referred anyone know reading yelp reviews alex jocovic decided gove pacific beneficial try pleased satisfied entire process alex jocovic patient always promptly returned calls amd emails felt comfortable assured would close time even realtor commented easy work alex would definitely recommend using alex read',\n",
       " 'whole process alex attentive every detail always kept us informed available times whenever questions many business dealings services provided us experience alex one outsdanding ones ever without hesitation recommend services thank',\n",
       " 'everything worked great smooth process pleased alex incredible job us thank',\n",
       " 'put offer home realtor susan lyon napa familiar either pacific beneficial alex jocovic asked us sure using mortgage company southern ca north selling realtor tried pushing us use local lender initial conversations alex knew broker wanted work wife agreed refused switch local lender happy alex went beyond get things done us available way normal business hours morning night well including weekends purchase progressed susan caution changed admiration complimented alex pacific beneficial us several occasions professionalism responsiveness commented easy making things loan side end position close full week early due hard work alex team put came closing sitting sign necessary paperwork escrow officer commented great rate must friend mortgage company well like realtor heard alex pacific beneficial loan search however feel friend mortgage company thank much alex company made daunting task seem easy everything went without glitch start finish certainly recommending friends realtor look forward using company future refinancing home purchases future read',\n",
       " 'put offer home realtor susan lyon napa familiar either pacific beneficial alex jocovic asked us sure using mortgage company southern ca north selling realtor tried pushing us use local lender initial conversations alex knew broker wanted work wife agreed refused switch local lender happy alex went beyond get things done us available way normal business hours morning night well including weekends purchase progressed susan caution changed admiration complimented alex pacific beneficial us several occasions professionalism responsiveness commented easy making things loan side end position close full week early due hard work alex team put came closing sitting sign necessary paperwork escrow officer commented great rate must friend mortgage company well like realtor heard alex pacific beneficial loan search however feel friend mortgage company thank much alex company made daunting task seem easy everything went without glitch start finish certainly recommending friends realtor look forward using company future refinancing home purchases future read',\n",
       " 'june extremely attentive responsive throughout process addition courteous pleasure work',\n",
       " 'jason straightforward extremely attentive throughout process',\n",
       " 'jason bean june lee honest responsive',\n",
       " 'pleasure working alex unfortunate go two failed escrows due conditions houses contract alex patient helped three escrows finally closed house looking loan officer responsive personable go alex follow consistently make sure close time overall excellent experience working alex pacific beneficial mortgage read',\n",
       " 'pleasure working alex jocovic unfortunate go two failed escrows due conditions houses contract alex patient helped three escrows finally closed house looking loan officer responsive personable go alex follow consistently make sure close time overall excellent experience working alex pacific beneficial mortgage read',\n",
       " 'great first time home buyers',\n",
       " 'kirk accommodating sisters first home purchase able close escrow time leasing contract previous apartment every questions mostly answered satisfaction even though becomes repetitive times family great experience working kirk highly recommend first time home buyers much smoother faster process also provides great customer service read',\n",
       " 'writing review share ended unpleasant experience kirk gay pacific beneficial mortgage potential customers first time homebuyer originally going go local mortgage broker loan wanted shop around potential better rate used lendingtree kirk contacted original lender offered pay home appraisal writing wanting compete kirk said would pay appraisal stated writing asked letter lender provided could get permission pacific beneficial pay appraisal kirk confirmed would paying appraisal happy kirk accommodate customer however closed home cost appraisal final buyer statement kirk said would paying appraisal thought would reimbursed reached kirk via email close got response paid appraisal upfront get reimbursed reached kirk two times via email response called office spoke kirk boss admin instructed reach kirk boss adam carrion received email response kirk stating lender credit received less appraisal would receive cover cost despite fact entering loan kirk told pacific beneficial would paying appraisal would receiving lender credit kirk asked call left voicemail never called back called kirk leaving voicemail response began reaching boss adam carrion via email continue explain situation receive email kirk asking call left voicemail received response called adam spoke phone receive call kirk offering nominal amount money stated wanted reimbursed entire appraisal amount said would go back powers see could never heard reached kirk adam via email check status response next day reached voicing displeasure going take action via reviews received email kirk accusing extorting want potential customers know occurred misled treated terribly customer kirk paid commission extremely disappointing brokerage would go lengths fact promised customer read',\n",
       " 'worked jason june easier process completely happy experience process depends fast respond requests refinance completed funded within month',\n",
       " 'worked jason june easier process completely happy experience process depends fast respond requests refinance completed funded within month june helpful accountant lots questions patient ask different terms loan amounts quick give updated rates definitely amazing customer service skills knowledge highly recommend read',\n",
       " 'everything said loan officer holds true company works support staff specifically summer anderson thorough efficient rowel accommodating informative day age business without ever meeting people helping expert sizing people product conversations could fortunate enough find pacific mortgage honestly met exceeded competitors expectations read',\n",
       " 'absolutely best experience ever dealing loan officer loan related endeavor matter rowel friendly knowledgeable patient extraordinarily helpful choosing right loan got precisely promised record time rowel available eager answer questions every step way recommend anyone everyone call need anything related loan future read',\n",
       " 'provided timely friendly service bring loan close quickly',\n",
       " 'friendly efficient',\n",
       " 'quick professional friendly cost effective',\n",
       " 'pleasure work pacific beneficial refinance worked rowel enriquez incredibly responsive time questions encountered issues would definitely recommend pacific beneficial gladly call services future',\n",
       " 'pleasure work rowel refinance incredibly responsive time questions encountered issues would definitely recommend gladly ask services future',\n",
       " 'slight difficulty online documents signing',\n",
       " 'accommodating easy work good products',\n",
       " 'loan officer really big help patient helped save money closing cost thanks would definitely refer friend',\n",
       " 'first time refinanced home kirk knowledgeable made easy us throughout process great rate service thank',\n",
       " 'contact maurice professional courteous discussions explained details worked meet timelines excellent',\n",
       " 'overall fine job cost received prevailing rate minor paperwork mistakes required repeated forms signed nothing worth worrying peter good job',\n",
       " 'probably challenging refinance alex zelada worked despite numerous assurances getting close finish line took months day rate lock extended problem seemed quicken requests documents piecemeal new request caused delay likely due quicken put everything holding pattern apparently without brokers knowledge discovered following see delay also instances pb staff fully reading thru correspondence making assumptions entirely accurate could significant borrower would go local broker comparable rate read',\n",
       " 'writing review share ended unpleasant experience kirk gay pacific beneficial mortgage potential customers first time homebuyer originally going go local mortgage broker loan wanted shop around potential better rate used lendingtree kirk contacted original lender offered pay home appraisal writing wanting compete kirk said would pay appraisal stated writing asked letter lender provided could get permission pacific beneficial pay appraisal kirk confirmed would paying appraisal happy kirk accommodate customer however closed home cost appraisal final buyer statement kirk said would paying appraisal thought would reimbursed reached kirk via email close got response paid appraisal upfront get reimbursed reached kirk two times via email response called office spoke kirk boss admin instructed reach kirk boss adam carrion received email response kirk stating lender credit received less appraisal would receive cover cost despite fact entering loan kirk told pacific beneficial would paying appraisal would receiving lender credit kirk asked call left voicemail never called back called kirk leaving voicemail response began reaching boss adam carrion via email continue explain situation receive email kirk asking call left voicemail received response called adam spoke phone receive call kirk offering nominal amount money stated wanted reimbursed entire appraisal amount said would go back powers see could never heard reached kirk adam via email check status response next day reached voicing displeasure going take action via reviews received email kirk accusing extorting want potential customers know occurred misled treated terribly customer kirk paid commission extremely disappointing brokerage would go lengths fact promised customer read',\n",
       " 'intake rep nice loan officer seemed annoyed inquiries clarification bad reviews website positive customer service hope somebody reviews phone call get past initial conversation fair review system required rating rate fees responsiveness required pick category selected poor honestly opinion matter preference would leave blank read',\n",
       " 'applied three different lenders two came across organized responsive caring application filed rate locked sent application review many errors took forever make corrections emailed called inquire status loan took nearly week get reply emailed later ask appraisal would ordered almost another week went got reply poor communication customers even though applied another lender week applied pacific asked sign docs lender appraisal even ordered pacific frustrating recommend read',\n",
       " 'company responded lending tree application picked work initial mails polite professional spoke broker adam explained somewhat complicated situation advised send financial documents including w etc folks could make preliminary decision started applicaiton immediately sent highly personal paperwork requested days later mailed saying everything looks good need sure never mailed called notified via mental telepathy e mailed requesting update nothing arghhh waste time company help biggie tell getting update folks really makes paranoid shared financial info note lending tree drop company note applicants plenty good companies steer clear one read',\n",
       " 'worked kory carla nasb superb team provided excellent responsive knowledgeable service throughout entire process complicated process refinance loan hung us entire time great experience working highly recommend use future mortgage needs read',\n",
       " 'kory far best loan officer ever worked dealing complicated refinance purchase two different properties cool calm professional extremely knowledgeable throughout entire process use anyone else moving forward level integrity responsiveness second none thanks everything kory read',\n",
       " 'expert loan officer well versed va financial impacts loan component changes best worked across home buying selling deals advocated real estate broker state due ability close complicated high pressure deals places top list years business professionally patiently answers detailed questions rally expanded nasb team also stellar support needs handled complicated va loan seemed change every week tried buy antebellum home tough comps retirement military tough income verification five families swapping homes tons contingencies everything along way mattered aaron nasb team got done even weekends closed time best interest rate market added origination fees look pass opportunity work read',\n",
       " 'nasb team went beyond family closed important va home loan time despite many changes military retirement challenging antebellum home required entire nasb team pull stops know rules regulations guide us tough va process truly believe would closed time different team recommend nasb home loans especially complicate va loans read',\n",
       " 'dallas goodlet entire team deserving special thank professional come closed loan days another competitor originally called saving us thousands current lender real pleasure getting work institution class act like dallas great job',\n",
       " 'comments begin wife point signing completion leader online home mortgage service satisfied origination cost applied lending tree competitive bids several lender matched slightly beat nasb none convincing closing time chose nasb dallas goodlet believability closing sales loan service application process competitive assuring professional timely supportive truthful dallas goodlet brent custer whole nasb team delivered mortgage time price promised completely satisfied appreciative staff product service company kudos read',\n",
       " 'working jon amazing experience start offered answers questions since first home purchase jon always phone call away ready help needed made stringent home buying process easy possible would definitely recommend potential buyers work jon know calling ever decide buy another house thanks jon read',\n",
       " 'nasb amazing work pre approval process easy informational chose home closed within days agreement date thanks nasb making first home purchase amazing experience',\n",
       " 'jon barrett great asset husband made mortgage loan process extremely simple quick jon knowledgeable helpful patient accurate would suggest anyone shopping mortgage loan give jon call',\n",
       " 'jon barrett great asset husband made mortgage loan process extremely simple quick jon knowledgeable helpful patient accurate passing jon name along anyone looking mortgage loan',\n",
       " 'express incredibly awesome experience working bryant small nasb military family purchased refinanced many homes far best experience ever bryant makes easy took time discuss best options us never met bryant mistake authenticity knew instantly nasb going read',\n",
       " 'best loan officer could hoped jeff exceeded expectations worked hard get best rate possible highly recommended',\n",
       " 'adam great work refi attention detail made smooth easy transaction several years since gone thru home loan process unsure start talking adam confident one help us refi professional helpful knowledgeable loan process answered questions timely manner would highly recommend adam would hesitate work read',\n",
       " 'great website knowledgeable responsive always got back us quickly answers questions mortgage process tedious made easy',\n",
       " 'received offers multiple banks lending tree request mortgage alex madewell nasb far best offer made entire process easy knowledgeable closing home seamless surprises would definitely recommend alex madewell nasb anyone looking mortgage',\n",
       " 'rob helpful getting loan closed issues end know still able get done time',\n",
       " 'peter team great work professional prompt responses answered questions somehow got us closing time despite various roadblocks encountered',\n",
       " 'adam came highly recommended first time spoke clear friendly professional knowledgeable worked hard ensure taken care aspects beyond necessary effective communication skills brought personal touch closed sending us hand written note congratulations recommend everyone know buying house read',\n",
       " 'real stand guy beginning mr barrett alievatied uncertainties faced buying first home guidance expertise certainly first time homebuyer would hope beginning end stood us walked us entire process even wire closing mr barrett stepped saved us thousands identifying errounous mistake contract buy call jon thank jon barrett certainly enjoyed working read',\n",
       " 'pleasure working mr barrett nasb please beginning mr barrett guided us journey upmost courtesy respect even closing mr barrett came rescue helping save even money big thanks mr barrett team nasb buy know call',\n",
       " 'first time homebuyer walking blindly bryant became guide recall telling speak mortgage problem bryant kind understanding genuinely cared throughout entire process online application day became homeowners prompt always gave clear explanations happening next steps path would best interest even bumps road smooth would recommend bryant anyone seeking financial wisdom buying refinancing process read',\n",
       " 'got best deal price matched even better fortunate got work',\n",
       " 'alex persistent diligent thorough easy work got excellent rate home next time buy absoltely work',\n",
       " 'wife purchased several homes years worked number different mortgage companies experience jeremy brent custer far best ever experienced ever market definitely back recommend nasb anyone know looking mortgage',\n",
       " 'great customer service always available called respectful thanks working extra hard close time',\n",
       " 'would like thank brent working us kept encouraging us felt would get turned previous lender brent team everything possible meet deadline thanks happy home owners',\n",
       " 'first inquired loan brent months ago told wanted put hold found cost buy lease months contacted morning told time get serious responded within hour rolling weeks later found home wanted make offer weeks later closed home time always knew going talked daily made feel comfortable whole process always felt like control honestly purchasing home much easier thought recommend anyone read',\n",
       " 'ten years since bought house little nervous could afford time around going process adam better work great communicating making feel ease got us best rate dream work completely took anxiety home buying regret using knowledgeable tell really cares read',\n",
       " 'fred nice always available address concerns seems really care customers going refinance never pleasant fred best make painless possible thanks fred best kary',\n",
       " 'worked kory klossner loan officer nasb confirming could offer much lower rate financial institution took additional time explain pros cons different loan types conventional versus va loans kory also took time calculate approximate monthly payments closing costs never felt like pressured rushed decision fact felt quite opposite gave whatever time needed fully understand options make choice right based upon unique circumstances kory went beyond make feel comfortable biggest financial decision life thanks kory stars read',\n",
       " 'worked kory klossner loan officer nasb confirming could offer much lower rate financial institution took additional time explain pros cons different loan types conventional versus va loans kory also took time calculate approximate monthly payments closing costs never felt like pressured rushed decision fact felt quite opposite gave whatever time needed fully understand options make choice right based upon unique circumstances kory went beyond make feel comfortable biggest financial decision life thanks kory stars read',\n",
       " 'pleased aaron customer service father recommended aaron looking buy house aaron fought get best rate made sure everything went planned able move closing date keep rate interest rate aaron told worry would cover cost difference thing pay extra rush appraiser close time would recommend aaron anyone looking buy home know great job like read',\n",
       " 'begin express happiness working aaron professional knowledgeable literally ended saving thousands dollars loan thought good rate spoke able lower almost full saved us hundreds dollars per month able get everything approved closed tight timeline less weeks highly recommend read',\n",
       " 'responsive worked hard get us approved mortgage experience stressful jon really made us feel like someone side thanks everything',\n",
       " 'joey helpful appreciated friendly manner timely responses',\n",
       " 'loan officer joey hartegan friendly helpful wife pleased chose nasb refinance home',\n",
       " 'family shopped around home mortgages currently reside new jersey every mortgage company wanted nearly k close found north american savings bank online steve person assigned work wonderful say least steve would always answer calls emails promptly addition office steve always made sure colleague assisted honestly say enough nasb ultimately able get much lower interest rate monthly payment home highly recommend steve anyone read',\n",
       " 'rc excellent work straight shooter honorable fellow veteran ensured understood happening expect long would take recommend anyone lending needs working va loan need loan officer knows great personally ensure closing time even extremely slow appraiser meet deadlines causing delays still closed time thanks rc professionalism dedication keep word team great work well read',\n",
       " 'smooth experience working va loan closing time nasb extremely easy work veteran want lender understands easily funds va loans nasb meets requirement five stars lenders worked past meet nasb service especially closing time experience recommend highly',\n",
       " 'outstanding service always timely',\n",
       " 'fred went beyond make sure everything went smoothly including making calls vacation fred works hard make dreams come true',\n",
       " 'fast helpful best service possible heartily recommend everyone',\n",
       " 'aaron everything humanly possible get best rate terms possibly could listened responded needs concern care expertise could never anyone could helped caring knowledgable patient responsive individual many thanks mr spring',\n",
       " 'aaron extremely help friendly kept everything always front everything veteran made go extra mile always available talk answer questions first time buying home made painless possible wife nothing great things thank enough helping us process read',\n",
       " 'loan officer team amazing helped us every step way',\n",
       " 'alex extremely helpful always available questions concerns kept constant contact us told us exactly going happening issues came addressed quickly wait longer closing always trying go extra step make sure taken care',\n",
       " 'great service easy',\n",
       " 'pleasure working alex ask better lender',\n",
       " 'good guy work responsive surprises',\n",
       " 'extremely smooth process surprises better expected interest rate',\n",
       " 'fred great worked around schedule always responsive always knew exactly process helped work next',\n",
       " 'worked person name andrew leehy hard working honest person customers interest commission heart',\n",
       " 'fred awesome work knowledgeable field quick respond calls emails made sure loan stayed track closed time days day put contract house highly recommend fred',\n",
       " 'fine bank traditional values great people real bank walks talk real pleasure business',\n",
       " 'joey knowledgeable accessible maintained positive attitude throughout complex refinancing process true partner functionary paperwork trusted judgment never failed also great sense humor',\n",
       " 'hesitant use non local mortgage company loan officer jeremy involved process local loan company used previously customer service knowledge exceeded expectations usually recommend people would consider jeremy trusted friend mortgage business',\n",
       " 'hesitant use non local mortgage company loan officer jeremy involved process local loan company used previously customer service knowledge exceeded expectations usually recommend people would consider jeremy trusted friend mortgage business',\n",
       " 'steve got done others day closing even got things done supervisor get done steve recommended friend glad went great work',\n",
       " 'professional customer oriented',\n",
       " 'steve responsive patient many questions bought house many years big move us praise highly enough highly recommend',\n",
       " 'closing process va loan went smoothly loan servicing called bank complete disaster set loan automatic payments using clunky website unlike banks business nasb website intuitive provide confirmation entries first months payments automatically debited external account scheduled however escrow amount changed nasb debited old amount account sent deficiency letter balance unlike every bank used amount debit automatically debited nasb sent credit counseling letter telling apply loan payment would charge late payment double deficiency change suggested credit counseling services called servicing department representative told letter sent error everything adjusted account showing current two weeks later received total two voice mail messages mail span minutes nasb default department woman first spoke rude said showed record earlier call problem hung second agent man default department said show made automatic payments nasb system set adjust anything years mortgage payments various banks never experienced incompetence rude service specifically instructed last agent request sell servicing loan another bank capable actually performing customer service veteran read',\n",
       " 'miserable experience screwed everything imaginable never accepted responsibility errors wouldnt recommend purchase doghouse much less purchasing new home',\n",
       " 'loan officer happy communicate committed committed communicated us questioned items problems questioned settling rate lock expired idea process unless contacted steve poor poor communication mr kang also sure house would appraise k house talking us loan end appraising causing us refinance lower current mortgage appraiser disorganized called twice pictures forgot used poor comps contacted several times look documents expired could even sign within minutes email notifications good actual settlement sweet competent notary thank goodness done poor process poor communication never recommend nasb already told two people refinancing steer clear read',\n",
       " 'loan officer happy communicate committed committed communicated us questioned items problems questioned settling rate lock expired idea process unless contacted steve poor poor communication loan officer also sure house would appraise k talking us loan interested causing us refinance lower current mortgage appraiser disorganized called twice pictures forgot used poor comps contacted several times look documents expired could even sign within minutes email notifications good actual settlement sweet competent notary thank goodness done poor process poor communication never recommend nasb already told two people refinancing steer clear read',\n",
       " 'started refinance nick things going ok problem credit card fro years earlier must made loan possible would understood never heard called nick several times response even called supervisor response mailed response company want due busness read',\n",
       " 'someone explain apr point higher interest rate fees',\n",
       " 'loan started quite well rep donna friendly quick respond questions clearly explained things would unfold sounded great count bank never kept single promise made problem bank times would ask assurance something donna would respond things would completed wished promise violated bank every single time example first second conversation explained donna wife would traveling country weeks beginning loan process would problem get loan closed said close several weeks wife departure weeks later bank ready close happen donna would ask us email documentation would email back within hours depending occasion donna would assure us documentation sent great bank everything needed weeks later would ask additional documentation happened times later process asked repeats earlier documentation earlier documentation provided old tell patterns recured bank care customers incompetent every time complained additional requests promise kept donna told us complaints justified sorry unable unwilling rectify broken promises finally closed weeks initial application imagine long process would taken responded every request bank day made pushed hard get deal done bank treats customers complete disrespect someone owned several properties life received home mortgages different banks honestly say worst mortgage experience ever owe work another bank professional respectful customers could rate bank lower one star read',\n",
       " 'built new home wanted get small mortgage compared value property process took much longer told would causing mishandling reverification information provided nasb difference opinion necessary close loan made process diffiicult family would recommend north american savings bank amortgage lender read',\n",
       " 'lender contacted previous phone number list registering site unprofessional disturbing',\n",
       " 'never write reviews time prevent anyone making mistake mistake using north american savings bank lenders started refinance company assurance would standard refinance without problems would completed minimal amount time communication company average confirmed would pursuing loan impression loan officer interested attracting business helping company uses convoluted email system sometimes worked mostly led frequent emails phone calls asking documents resent assessment done house paying communication stopped able reach loan officer told would personally find additional comps area little annoyed going paying however complied contacting area realtors securing believe suitable comps forwarded officer week went phone calls emails answered time told comps sufficient result ensure residence worth anything despite assessment findings result would issuing loan time decided honor informing rates risen half point warn loan officer way recording voicemail messages forwarding voicemail account without calling bad news feel like effort avoid conversing stuck assessment banks telling use words pay new assessment also money credit reports course paying higher interest rate new loan secure told loan officer recourse recoup money spent expect paying mistake years point refinanced loan one year ago without issues strongly urge anyone looking refinance obtain new loan bypass north american savings bank matter promise save time money lot aggravation read',\n",
       " 'started bob ran credit check without knowledge consent agreed use nasb bob told could close less weeks took day closing still asking paperwork day closing household goods unpacked told power attorney could used fly id wife take docs notary fedex back also get bank check send docs accept personal check five days later driving id nc coordinate closing docs already sent sale home sent could send four houses purchased past years stressful read',\n",
       " 'horrible experience excellent credit plenty income etc nasb rep made tons promises get us sign weeks closing disappeared failed give us lock firm closing date thankfully sensed problems immediately contacted local lender got us loan better terms lower rates weeks nasb rep constantly complained busy many matters work became apparent towards end sure day want business apparently follow reason another sure good lenders one read',\n",
       " 'rep extremely professional friendly helpful first spoke fact initial round calls thought going select five lending tree lenders plus two banks talked directly sent email lenders saying ok contract signed want select lender lock rate tomorrow please send best current rate fees etc exact loan parameters took rep nasb week respond replied thanks late selected someone else already locked rate following weeks continued receive emails saying ready proceed loan let know closed january th february th got another email guess really ever read emails also told phone missed boat seemed fall deaf ears end round one rates fees competitive though pretty near best bunch read',\n",
       " 'working loan consultant nasb told would give rate year fixed loan total closing cost asked send good faith estimate good faith estimate came total closing cost mentioned conversation called explanation extra said state tax aware explanation knew state beginning repeatedly asked total closing cost time repeatedly said loan consultant known something like state tax might come later mentioned supposed know different compoents fees taxes apply closing everyday could honest beginning expected honest communication loan consultant nasb bank receive disappointed read',\n",
       " 'interest rate offered time close short sold us loan pursued despite fact credit check underwriting made per va rules irrrl necessary assured mr owens first discussing refinancing would made constant errors paperwork one huge error loan estimate rolled initial escrow funding loan amount expressly communicated beginning want finance pay closing available funds another classifying currently owed property taxes prepaid immediate disbursement county trying collect closing rolling initial escrow account paid december month later time nasb intended sell mortgage thankfully corrected closing agent mr owens straight us nasb intent sell mortgage closing statements first saying nasb would consider sale intended keep mortgage books statement would sold appeared loan estimate saying sale definite case sold sometime future since today days disbursement find mortgage books immediate sale shows mr owens likely knew definite sale tried mislead us saying definite taking calendar days address errors issues initial closing document prevented us knowing amount financing amount needed pay closing supposed made certified check minutes prior arrival closing agent place business pros allow neutral instead bad rating despites show customer support loan process extremely poor unacceptable read',\n",
       " 'increased rate quoted different closing costs different times took months get closing needed information mattered least',\n",
       " 'worked jon barrett processing refinance loan quick issue free process appreciated jon kept us date whole process explaining process went',\n",
       " 'rate lock rule followed',\n",
       " 'good news processing fee waived rate locked days closed weeks pay extension also floated rate percent without fees closing pay anything credit history check fee good news long frustrating experience believe process took longer expected mostly busy refinance season might difficult customer may unlucky always problem every stage detail refinance experience trying blame loan consultant byron housworth whenever asked time line answer fixed week wait nine weeks close luck vacation week middle process nasb needs document wait last minute come back oh need document else continue one taken care wait week get back next week hear turns also need document went day closing would email say noticed employment verification done hours closing oh found home insurance verification reach called insurance company ten minutes taken care know many times hear ok turns ok many many times assured information need never case careful missed details wasted weeks weeks able go check list see taken care everything always say busy lot applications believe shouln accept applications process sample communication charged respond charging please check final hud line xx respond sorry go far favorite quotes sorry come across often aware work possibly call need asap thank patience tgif hear times bad people need lot patience dealing suggest working time pressure work hard application lot patience overall feel like nasb ok bank work think could handle hassle read',\n",
       " 'end taking loan company comment fact broker matt quick try get business soon found complications mortgage insurance stopped contact would return calls emails finally got hold short answers offer little help asked details complications went different company loan read',\n",
       " 'closing went pretty smooth exception bumps customer service agent prompt responses well document transfers keen refinance electronic email phone say process easy went well got great rate closing costs good issue closing final documents written year loan suppose year loan issue happened final writing close specified closing date happened day later papers rewritten great able resolve one day bad part got charged rate lock extension fee rate lock expired day suppose close sure could fought fee caused mistake closing new years eave want carry closing new year read',\n",
       " 'great customer service helpful',\n",
       " 'helpful great customer service',\n",
       " 'tell character honesty beginning happier thank mark',\n",
       " 'buying house stressful thing done specially developer company deal mark team best always helpful time went extra mile help solve questions really happy chose beginning showed professionalism customer care skills bottom heart thank helping get first home read',\n",
       " 'mark team helpful provided great experience fast closing competitive rates',\n",
       " 'bob amazing job process smooth stress free definitely responded super fast helpful satisfied',\n",
       " 'professional yet personable quick help questions obstacles funding process highly recommend peter lammerts team',\n",
       " 'pleasure work christopher waymire process made easy painless staff supporting team awesome highly recommend company',\n",
       " 'great first time home buying experience already recommended triumph friends family communication really made difference stephanie staff quick respond emails answering questions providing reassurance something seems lacking days comes conducting business',\n",
       " 'trying decide triumph lending much larger company whose name starts q spaceship logo happy went triumph company got needy stop trying call chose triumph however triumph play games responded quickly took time educate use gimmicky sales techniques pleasant work whole process happy work going use buy rental property next year read',\n",
       " 'first home purchas however peter monica support made easy smooth process always hear stress challenges buying house day peter called told good go would closing couple weeks laughed honestly thought joking simple quick loan actually able enjoy entire process application closing response time emails unbelievable would response within minutes almost hours day exceeded bar customer service would given stars option extremely fast loan process got outstanding rate continued call way closing make sure everything going well market buy home refinance peter team ones thank much never thank enough best read',\n",
       " 'andy incredible resource guide throughout first home buying experience highly skilled always willing help perhaps importantly understanding answered countless questions even text messages night calm professional demeanor absolutely reassured throughout closing process plan refinancing years utmost confidence andy able provide another superior experience looking forward working andy read',\n",
       " 'thank peter always getting back right away questions making sure smooth process loan closed time appreciate much',\n",
       " 'found triumph online reached loved easy get hold answered questions went beyond make sure understood whole process team responsive keeps everything still need going forward closed late friday funding happened relatively fast without hiccups would hands recommend anyone purchasing house made process run smoothly read',\n",
       " 'good gut feeling triumph lending wasted lot time checking mortgage companies companies map two never heard back pre approval stage one completely ignored one email sent follow phone call another waited month call back two promised information ever provided real prize winner particularly pushy completely unprofessional informed decided use triumph lending closing costs thousands dollars lower everyone worked triumph mostly vanessa flores loan officer alina vargas loan processor took every question seriously never failed respond request quickly accurately know sounds cliche felt like number thanks wife getting first home read',\n",
       " 'vanessa word fantastic every step way perfect balance professionalism enthusiasm always quick respond respond questions even importantly answers always right check mortgage companies representatives hold candle read',\n",
       " 'pleasure john besides fees closing costs lower brokers reached john involved every step way top every element transaction communicated timely nothing left chance even loan ready funded one week prior closing day shopped around compared brokers know made great decision financially peace mind going john would hesitate recommend services anyone looking home loan read',\n",
       " 'triumph extremely efficient pleased streamlined processes use technology entire team worked knowledgeable provided real time feed back personable awesome experience triumph definitely recommend home buyers',\n",
       " 'excellent customer service great experience working lender marcos maya team',\n",
       " 'say enough great things peter team peter always available always responded right away answered questions answer questions took time explain everything detail made sure understood answer process',\n",
       " 'buying house painful fill applications produce proof financials etc chris team made easy easy work organized always ready answer question explain something needed chris friendly knowledgeable professional always best interest mind communicated us every step way best home loan experience ever read',\n",
       " 'stephanie amazing side side us process answering questions fighting us us realtor absolutely recommend team guys rock',\n",
       " 'stephanie amazing bought first house houston thankful patience help gave us working pleasure us realtor never forget thank stephanie best highly recommend',\n",
       " 'great experience great people',\n",
       " 'working chris easy listens needs understands best meet open upfront honest communicates quickly thorough delivers high level customer service writing processing best fastest ever seen want great loan experience business chris let read',\n",
       " 'great work responsive inquiries',\n",
       " 'stephanie alina phillip great work made process quick painless highly recommend',\n",
       " 'stephanie great pleasure work gave solid advice throughout process thanks stephanie',\n",
       " 'really enjoyed services provided stephanie drewry team friendly professional always responded quickly great advice throughout lending process',\n",
       " 'bob amazing job give stars would process went smooth stress free definitely respond super fast super helpful satisfaction',\n",
       " 'stephanie team fantastic helpful responsive lender ever worked really go way provide best customer service possible would recommend anyone',\n",
       " 'working chris excellent experience knowledgeable follow every step way really make big difference work professional like thank chris time effort put deal',\n",
       " 'chris hard sell guy earns business giving great deal working hard chris always responsive time reached even contacted follow great well highly recommend part provide required information obtain loan man breaks speed records getting done two thumbs read',\n",
       " 'chris waymire team spectacular first time home buyer chris triumph lending suggested mutual friend chris triumph team responsive proactive every stage deal guy real deal highly recommend financing chris',\n",
       " 'chris waymire team spectacular first time home buyer chris triumph lending suggested mutual friend chris triumph team responsive proactive every stage deal guy real deal highly recommend financing chris',\n",
       " 'triumph lending great team walk lending process hassle free treated great care made sure answer questions pre approval process easy complete team quick respond every time needed pre approval letter bidding home able close house within month well read',\n",
       " 'stephanie drewry took wonderful care us purchasing home another state felt though customers received personal timely care',\n",
       " 'beginning lending tree took excellent care us buying home another state every day stayed top step get closing completed seller requested date lt team worked together like well oiled machine',\n",
       " 'awesome staff works well together support customers throughout lending process marcos monica jc phenomenal job keeping informed answering questions loan process',\n",
       " 'marcos team every step way us every time reached received response within minutes goes calls texts emails marcos made process easy could imagine recommend team triumph anyone',\n",
       " 'started process mortgage loan triumph lending network funding houston tx given pre approval quickly great interest rate continually informed via email phone calls thorough entire process loan representative triumph lending peter lammerts worked tirelessly make best deal possible terms closing costs interest rate top always available answer questions loan begin looked like going easy mortgage loan process difficulties credit report showed peter diligent work issues able overcome obstacles order mortgage closing time best interest mind highly recommend peter lammerts team professionalism efficient service read',\n",
       " 'john team great best lender process mortgage',\n",
       " 'marcos tremendous asset triumph lending katie extremely helpful explaining step way keeping us informed progress accomplished everything said would closed time last day month planned midst high tension parties great job',\n",
       " 'team great work experienced professional bumps seller end triumph pushed closed time thank',\n",
       " 'stephanie great job kept informed times seems put together excellent team focus getting job done done right',\n",
       " 'great experience working stephanie team loan process went smoothly able close days earlier expected realtor worked triumph made comment close process went smoothly great lender title company used would definitely reach triumph future lending needs read',\n",
       " 'bob triumph beat lenders rates prompt approval closing',\n",
       " 'bob called checking answered questions via email within minutes later hour reassured another lender trying make think problems triumph followed gut stuck bob triumph bob katie amazing beat lenders rates percentage saved closing costs well lender strict closing costs higher amazing home could happier read',\n",
       " 'went beyond make sure much information needed close home great job kevin team stay connected provide timely communication close early truly cares individual families provided great overall experience one stressful times someone life great job overall thanks hard work information super helpful truly appreciate approach confidence earned knowing right us customers read',\n",
       " 'pleasure working john guerra condo purchase made home loan process much easier expected definitely recommend family friends',\n",
       " 'stephanie awesome worked hard us make sure loan closed',\n",
       " 'triumph customer service great stephanie worked hard ensure closed time address resolve issues arose prior closing suggest use specifically request stephanie drewry',\n",
       " 'second time worked glen home mortgage time process went smoothly second time also janel salvador helping impressed responsiveness janel even answered questions non business hours great follow highy recommend',\n",
       " 'john guerra super fast responding explaining process easiest loan process done',\n",
       " 'worked steven castaneda years back looking building ended getting pregnant deciding hold steve push harass calls emails appreciated years later decided move forward sale purchase remembered helpful time spent explaining things contacted helpful walking answering questions process knew little home buying really appreciated time closed dream home everything went smooth read',\n",
       " 'worked steven castaneda years back looking building ended getting pregnant deciding hold steve push harass calls emails appreciated years later decided move forward sale purchase remembered helpful time spent explaining things contacted helpful waking answering questions process knew little home buying really appreciated time closed dream home everything went smooth read',\n",
       " 'working john last years placed offers different houses luck john always documents needed ready john attention details responsiveness customer service second none failed offers joy finally accepted john always available phone email responding almost immediately john helped us make buying home smooth enjoyable process loan documentation easy manage process buying refinancing home look working john guerra read',\n",
       " 'matt pierce went beyond able make suggestions know due experience also answers almost every hour week feel like worked hours commission probably received definitely contacting next loan great guy never got annoyed requests never felt express frustration blame always pleasant talk texting made process much easier read',\n",
       " 'matt pierce went beyond able make suggestions know due experience also answers almost every hour week feel like worked hours commission probably received definitely contacting next loan great guy never got annoyed requests never felt express frustration blame always pleasant talk texting made process much easier read',\n",
       " 'chris waymire loan officer worked contact sometime purchased home helpful knowledgeable loan process made loan process easy problems getting qualified delays process way closing would recommend chris triumph lending family friends chris helped get dream home truly thankful read',\n",
       " 'friendly knowledgeable willing answer questions would highly recommend refinance home loan',\n",
       " 'refinanced house loansnap company amazing everyone dealt friendly knowledgeable willing answer questions would highly recommenced loansnap anyone looking refinance home loan officer dyllon would highly recommend knowledgeable makes whole process seem easy',\n",
       " 'buying home complicated multiple parties competing interests really stressful frustrating experiecne helps enormously working lender upfront offer accept terms type loan type property downpayment timing close received call dlj previous lender changed terms two weeks escrow desperation filled lending tree form hope finding new lender time honestly thought purchase going fall next day received call number lender recognize dlj glad answered phone within minutes adan munoz back track dlj team across board knowledgable articulate well coordinated calm constructive offered product met needs perfectly got across finish line record time special shout focused unflappable highly responsive ranee martinez read',\n",
       " 'appreciated teams thoroughness constant updates throughout entire process',\n",
       " 'want thank robert mcclung janeen cadwell kind assistance loan process although many questions beginning robert provided information required make feel comfortable refinancing home great experience highly recommend dlj financial thanks robert janeen great service',\n",
       " 'dealt robert mcclung hitting bumps road persistent managed get business loan real professional knows business love deal opportunity future',\n",
       " 'great person work never give attitude',\n",
       " 'incredibly responsive completed process little effort',\n",
       " 'great lender work',\n",
       " 'brian absolutely best work response question lightening quick attention detail second none time dread loan process brian sekani truly painless easy want loan officer instills confidence dedicated serving clients look brian appreciate help guys read',\n",
       " 'ethan mortgage banker dlj financial absolutely pleasure work start finish kept us updated loop process heloc fast well lisa processor kind attentive first phone call ethan detailed nothing best interest mine ethan definitely earned business many years come read',\n",
       " 'adan great loan officer always responsive knowledgeable best interest heart good word top everything thank much adan',\n",
       " 'adan munoz apparently sleep responds question almost immediately refinanced home process smooth adan top everything got best rate kept word concern slow give loan estimate agreed upon rate terms bc appears waiting see rate would go honored word really best thing one ask patient good explaining things trust bothered many questions always kind professional closing went planned within days trust dlj adan fully means lot huge investment read',\n",
       " 'super responsive thorough look next transaction questions concerns answered promptly ben',\n",
       " 'worked anthony ranee refinance current fha loan anthony explained everything detail entire process loan ranee also super thorough easy deal would issue using mortgage needs dljs process mostly online worked flawlessly ben',\n",
       " 'pleasure working anthony home refinance husband throughout years refinanced acquired many home loans honestly say anthony best mortgage banker ever pleasure working anthony prompt responsive always answering phone calls emails within timely manner often times days hours would recommend anthony anyone looking painless refinance home loan read',\n",
       " 'pleasure working anthony marroquin throughout years husband worked many different companies refinance acquire home loans without doubt anthony best mortgage banker worked anthony always responded swiftly two emails phone calls often times days hours anthony always professional knowledgeable honestly made us feel like client often times refinancing home stressful laborious process anthony made refinance painless would recommend read',\n",
       " 'lee team ethan angelica fantastic job making loan happen complications figured way complete loan happy jim',\n",
       " 'agree star review easy clear work hello knowledgeable direct conversations style worked well team processor asks documents smooth transaction successful loan funded happy worked michele call future dealings read',\n",
       " 'got funded dlj smooth transaction michele neal pleasure hello super communicative professional available times worked sekani hamiltn processed loan also constant contact great team sekani attentive responsive knowledgeable fields hesitate use dlj future services good experience working customer service oriented people reflect dlj read',\n",
       " 'great experience working adan munoz team dlj financial adan began working refinancing options home decided relocate sell adan stayed us helped us secure mortgage new home process painless thanks adan lee kulick janeen cadwell knowledge kindness prompt responses questions concerns made whole experience pleasant always case dealing lenders past would definitely recommend dlj financial anyone looking new loan refinancing options read',\n",
       " 'worked adan munoz loan processor janeen cadwell refi felt like team trying make loan happen ups downs loans conditions underwriting guidelines got done end pleased service got top notch would recommend anybody read',\n",
       " 'anthony marroquin team knowledgeable provided clarity entire fi process looking credible cost effective efficient solution oriented mortgage broker go anthony marroquin dlj financial',\n",
       " 'anthony marroquin team knowledgeable provided clarity entire fi process looking credible cost effective efficient solution oriented mortgage broker go anthony marroquin dlj financial',\n",
       " 'jaclyn maribel first time refi completely online owned several properties years dlj senior mortgage banker jaclyn maribel courteous professional knowledgeable every extent made choice dlj one wish every property purchase refi made past seemless delivered every promise made day one happier service provided manner provided star way around thank dlj team read',\n",
       " 'anthony marroquin primary senior mortgage banker anthony patiently thoroughly fully explained everything step step start finish exploring options best results went dlj anthony individualized care competence commitment making right stuff happen anyone financing market knows begin research options swamped endless phone calls texts dozens companies offering everything usually disclosing downsides hidden fees anythony savvy financially creative thoughtful thorough chose work dlj versus company anthony walked steps requirements beginning successful finish thus stars anthony refinance go anthony marroquin dlj financial best service options read',\n",
       " 'recently successfully financed home loan dlj financial senior mortgage banker anthony marroquin discovered traditional banks online financing companies impossible work held record variable income self employed freelancer multi emmy winning reality tv producer works decade major network series however dlj carefully evaluated everything treated unique person rather bunch standard numbers crunched averaged made happen straightforwardly fully explained glitches anthony marroquin patiently thoroughly fully explained everything step step start finish exploring options best results went dlj anthony individualized care competence commitment making right stuff happen anyone financing market knows begin research options swamped endless phone calls texts dozens companies offering everything usually disclosing downsides hidden fees anythony savvy financially creative thoughtful thorough chose work dlj versus company anthony walked steps requirements beginning successful finish thus stars anthony financing future dlj anthony marroquin highest recommendation read',\n",
       " 'grateful came across adan muñoz knowledgable kind professional always remained calm helped us questions every step way underwriter helpful well made process seamless appreciated secured email system used well loan closed earlier expected happy results read',\n",
       " 'grateful came across adan muñoz knowledgable kind professional always remained calm helped us questions every step way underwriter helpful well made process seamless appreciated secured email system used well loan closed earlier expected happy results read',\n",
       " 'adan munoz responsive needs refinancing mortgage available us even hours necessary highly recommend dlj financial',\n",
       " 'jaclyn super friendly awesome work jaclyn easy talk explains everything understand five minutes talking sold us going firm talked two companies neither company could compare made whole process easy worked hard give us needed would surely call need anything future read',\n",
       " 'shopping around refinance came upon dlj financial listened wanted worked hard give us needed gotten quotes two companies even compare dlj financial customer service rep jaclyn martin work hard give us everything wanted explained every step process always answer questions super friendly easy talked loved working sakani hamilton experience stressful everything went fast would surely work read',\n",
       " 'fantastic communicator able offer options may considered thinks big picture best achieve long term goals',\n",
       " 'simple really fi lot work stressful look company one going handle work best interest well present ideas may known options strategy underway want communication updates overall insight process going three things happen easily non invasive way dlj checks every box mentioned would highly recommend anyone wants fi correctly minimal stress read',\n",
       " 'man amazing said orginal review would deal thank bryan',\n",
       " 'going break year relationship things hard im trying find way forward delt several pushy finace companys didnt like came accross bryan man amazing answered questions kept loop emailed anything asked top listened woes current relationship little bit compassion humanity decided deal bryan everything went smooth im going bring mother bryan get refi done would use company future thanks bryan read',\n",
       " 'bryan definitely best loan officer come across years excellent communicator knowledgeable top process highly recommend',\n",
       " 'purchased properties ca past years far best experience lender quick fair detail oriented great communicators please note also real estate clients go thru terrible experiences larger institutions recently bryan really top process knowledgeable using personal use also referring clients read',\n",
       " 'paul great job initial call email inquiry request final stages process staff worked well get loan done timely manner always available came loan rate said get us recommend paul use future need arises',\n",
       " 'ethan peter worked tirelessly close loan extra attentive questions explained whole process detail team responsive polite called many institutions end dlj ethan earned business happier results',\n",
       " 'first time home buyer process daunting brandon great guide entire process feel absolute best provide fair rate responsive helpful questions assure use next home purchase',\n",
       " 'absolutely best service used twice loan preferred lender send clients answer questions application close jo ann extremely knowledgeable works well first time repeat buyers team makes sure everything goes smoothly closes tine exceptional service',\n",
       " 'first met penny several years ago began getting information home loan time income high enough secure loan penny took time work gave information needed able secure home loan future date time finally arrived july year penny helped details financing home loan always felt penny corner time met penny friendly caring way commitment getting loan able purchase beautiful two bedroom condo also finished basement thanks penny even man cave happier read',\n",
       " 'bought sold multiple properties lifetime many experiences lenders one brandon mears unique say least brandon true professional honest efficient supportive level never experienced commitment finding best loan saving opportunities us quite remarkable constant support frequent communications made us comfortable decision work phone calls texts emails answered almost immediately follow impeccable read',\n",
       " 'worked sam fazio home purchase provide low interest rate low closing costs process seamless detailed explanation mortgage process introduced everyone team wonderful well loan clear close way ahead schedule realtor attorney super impressed service provided recommend sam fazio everyone know looking mortgage read',\n",
       " 'worked sam home purchase provide low interest rate low closing costs process seamless detailed explanation mortgage process introduced everyone team wonderful well loan clear close way ahead schedule realtor attorney super impressed service provided recommend everyone know looking mortgage read',\n",
       " 'friendly knowledgeable experienced industry one best companies business would use upon next purchase home refinance jim moore team best raleigh north carolina look forward guaranteed rate family smiling',\n",
       " 'penny nothing short amazing penny helped wife multiple times get mortgages fit us comfortable works hard day night make customers happy truly changed lives better',\n",
       " 'penny pleasure work works hard find best rates decisions mortgage purposes works fast pace quick responses enjoyed working penny referred many people referrals let us know happy recommendation asked work someone better strongly encourage give penny call mortgage inquiries read',\n",
       " 'good service helpful people',\n",
       " 'met mr germain daughter son law known done business several years mr germain also helped granddaughter buy first home moved home another state lived years thinking would frightening intimidating process dreading whole thing mr germain made transition new home much easier knowledge compassion would recommend mr germain anyone wants less stressful positive experience read',\n",
       " 'dean easy contact work throughout lending process home purchase experience pre approval letter closing table excellent dean extremely responsive team provides great tracking closing dean industry years provides great service tremendous expertise highly recommend',\n",
       " 'dean huge help took call work gave undivided attention helped land dream home would highly recommend anyone looking lender regular basis',\n",
       " 'profession able knowledgeable industry helpful',\n",
       " 'worked dean professionally seeing well transactions went decided use personal loan impressed knowledge loan industry professional manner aspects refinance went thru without hitch happy trusted advice highly recommend dean plan use next home read',\n",
       " 'dean made homebuying process simple husband first time homeowners overwhelming trying find right rate learning lingo dean helped us every step way two years later still happy home highly recommend anyone looking someone help get dream home',\n",
       " 'dean professional informative right start impressive quickly returned correspondence updates loan status questions conventional loan closed time frame dean gave us worked hard unforeseen issues could happier certainly recommend dean germain confident receive top notch experience clear dean passionate clients mortgage product read',\n",
       " 'first house course freaking thanks dean made whole process easy patient answering thousands questions walked us every step great communication highly recommend ready next house call thanks everything',\n",
       " 'spent weeks working numerous brand name banks lending intuitions refinance home assumed came particularly opportune time completed full cycle full time employment position documents uploaded within day income credit score k balances quite respectable however rather met highest degree professionalism met stumbling blocks bureaucracy fortunate find michael dedicated professional staff guaranteed rate prepared anything professionalism sensitivity quick time responsible turnaround immediately received closing costs title insurance etc lowest ever seen closed week original mortgage paid money account respectable free flowing experience imaginable thank michael crew jacob koppel read',\n",
       " 'marcus great work always quick respond questions deff recommend use future',\n",
       " 'last home purchase stressful challenging process say least one difficult reluctant embark process since experience known expressing dread journey realtor recommended us use guaranteed rate trust recommendation happy absolutely blown away guaranteed rate time around breeze rick richter wonderful team broke process beautifully eliminated guesswork always available questions clarification guarantee phenomenal experience guaranteed rate read',\n",
       " 'last home purchase stressful challenging process say least one difficult reluctant embark process since experience known expressing dread journey realtor recommended us use guaranteed rate trust recommendation happy absolutely blown away guaranteed rate time around breeze rick richter wonderful team broke process beautifully eliminated guesswork always available questions clarification guarantee phenomenal experience guaranteed rate read',\n",
       " 'guaranteed rate entire team helpful responsive amazing customer service appreciate hardwork',\n",
       " 'simply awesome responsive helpful',\n",
       " 'jason chandler team worked hard ensure able purchase beautiful home explain difficult situation everything could possibly went wrong managed go wrong frustrated jason kept us right track helped us resolve issues able close loan forever grateful team thank guys defiantly recommend company everyone needing home loan read',\n",
       " 'guaranteed rate provided us seamless loan experience beginning end wonderful service staff shopped many lenders found guaranteed rate offered candid feedback honest rates reasonable fees thank',\n",
       " 'rick team guaranteed rate fantastic experience delightful beginning end recommend rick highly thank much hard work make buying process go smoothly',\n",
       " 'tom pleasure work really took time answer questions always answered phone called went beyond make sure good experience since referred three friends similar experiences tom knowledable best industry hearing us tom thank everything read',\n",
       " 'easy quick process team responsive questions would definitely use recommend stars',\n",
       " 'gregory understood needs able listen helped process closed timely fashion',\n",
       " 'worked scott two mortgage experiences incredible front questions made process stress free knowledge products industry amazing thankful paths crossed scott corner went mortgage process',\n",
       " 'guaranteed rate great lender company chose second experience using buy house places expensive contacted matt various hours day helpful explaining process',\n",
       " 'quick easy process worked find loan would fit circumstances satisfied entire process third loan',\n",
       " 'loan process another lending company fell apart rick richter came rescue able pick pieces complete whole process fast efficiently without change original anticipated closing date rick nothing kind courteous informative start finish would highly recommend services rick team read',\n",
       " 'process simple straight forward unlike lenders continually ask provide documentation repeatedly happy quickly easily loan took start finish loan officer matthew mcdevitt available needed overbearing previous poor experience lender made numerous promises even writing closing approached changed deal dramatic fashion caused us eventually decide move forward deal happened faster anticipated literally hang ups would totally recommend guaranteed rate question using online lender several trusted sources pointed us direction fairness considered really personally know local banker either lack face face interaction stop types business take part daily hope never move ready finance check guaranteed rate read',\n",
       " 'fantastic experience working brian belcer team guaranteed rate purchasing first home made available time day night walk process answer questions happy mortgage able obtain ultimately feel much educated process working gr highly recommend anyone market home absolutely using future home purchases read',\n",
       " 'worked tracy padgett completely professional always willing help explain things time day great work would definitely recommend family friends',\n",
       " 'experience tom exceeded expectations always available answer questions via email phone text tom team ken true professionals delivered everything said would happier home buying process thankful choose garanteed rate lending tree thank tom',\n",
       " 'chuck williams richter team made buying first home great experience gave us quality customer service helped explain every step process team able work within tight timeline process felt like breeze feel comfortable knowing got right loan definitely recommending services everyone',\n",
       " 'quick easy pleasure work questions answered recommend anytime matt rich great thank',\n",
       " 'met mr germain daughter son law known done business several years mr germain also helped granddaughter buy first home moved home another state lived years thinking would frightening intimidating process dreading whole thing mr germain made transition new home much easier knowledge compassion would recommend mr germain anyone wants less stressful positive experience read',\n",
       " 'dean easy contact work throughout lending process home purchase experience pre approval letter closing table excellent dean extremely responsive team provides great tracking closing dean industry years provides great service tremendous expertise highly recommend',\n",
       " 'dean huge help took call work gave undivided attention helped land dream home would highly recommend anyone looking lender regular basis',\n",
       " 'profession able knowledgeable industry helpful',\n",
       " 'worked dean professionally seeing well transactions went decided use personal loan impressed knowledge loan industry professional manner aspects refinance went thru without hitch happy trusted advice highly recommend dean plan use next home read',\n",
       " 'dean made homebuying process simple husband first time homeowners overwhelming trying find right rate learning lingo dean helped us every step way two years later still happy home highly recommend anyone looking someone help get dream home',\n",
       " 'dean professional informative right start impressive quickly returned correspondence updates loan status questions conventional loan closed time frame dean gave us worked hard unforeseen issues could happier certainly recommend dean germain confident receive top notch experience clear dean passionate clients mortgage product read',\n",
       " 'first house course freaking thanks dean made whole process easy patient answering thousands questions walked us every step great communication highly recommend ready next house call thanks everything',\n",
       " 'spent weeks working numerous brand name banks lending intuitions refinance home assumed came particularly opportune time completed full cycle full time employment position documents uploaded within day income credit score k balances quite respectable however rather met highest degree professionalism met stumbling blocks bureaucracy fortunate find michael dedicated professional staff guaranteed rate prepared anything professionalism sensitivity quick time responsible turnaround immediately received closing costs title insurance etc lowest ever seen closed week original mortgage paid money account respectable free flowing experience imaginable thank michael crew jacob koppel read',\n",
       " 'marcus great work always quick respond questions deff recommend use future',\n",
       " 'mike best always questions closed loan weeks would refer everyone',\n",
       " 'helpful questions concerns answer quickly',\n",
       " 'thank rick richter team completing mortgage refinance time making us feel like valued clients much appreciate way entire team always us questions able promptly work hurdles refinancing professionalism happy rate service',\n",
       " 'team guaranteed rate took complicated tax return situation smoothly sailed usually horrible mortgage process tremendous team made quick clean painless got fantastic low rate easy loan else ask thank michelle rest team best',\n",
       " 'mike knowledge enthusiasm evident everything never worked anyone responds emails faster great communication great service',\n",
       " 'mike one highly rated successful mortgage brokers country also one knowledgeable brokers know work mike frequently rely educate clients navigate us latest mortgage regulations also extremely impressed seen mike obtain preapproval client matter minutes normal business hours read',\n",
       " 'friend mine told refinanced house unbelievable interest rate wanted find rates market little skeptical online process finding mortgage refinancing works joe dilucchio guaranteed rate fantastic deal super helpful friendly ensured answered questions ensure werent wasting time joe provided different types options patiently explained went pros cons importantly didnt try sell anything met enough folks try force option want buy joe attitude building relationships instead selling deal really resonated certainly recommend joe anyone interested financing refinancing option certainly reach financing needs future read',\n",
       " 'pretty sure set world record getting paperwork done properly without hassle recommend business hands',\n",
       " 'great experience working joanne experienced knowledgeable yet patient answering questions even basic made everything easy understand accessible step process definitely helped reduce doubts hesitations came across result process went smoothly felt confident decisions results would strongly recommend anyone else process buying home read',\n",
       " 'awesome experience professional efficient great communication team top everything simple efficient latest technology close fast highly recommend rick professional options opportunities communications competitive products recommendations offered consideration',\n",
       " 'spoke one customer service rep willing start process give personal information hung phone without saying anything left phone unprofessional',\n",
       " 'bad',\n",
       " 'reason company denied insisted monthly obligations times actual amount provided necessary proof error avail clearly listed obligations twice figuring debt credit ratio paid attention documentation creditors showing accurate information read',\n",
       " 'end day period sign contract new mortgage disclosed us able close guaranteed rate never told us extra cost talked several supervisors nothing dealt appropriately service recover customer satisfaction complaint grievance resolution called quicken loans able help quickly professional would recommend guaranteed rate read',\n",
       " 'never frustrated company apply monday contact via phone email almost immediately missed call email mortgage person said could initially communicate email get ball rolling works spend entire day phone emailed emailed emailed kept calling emailed even emailed customer service nothing even get courtesy response even say got emails get back soon would perfectly fine hit credit nothing show someone else getting business waste time read',\n",
       " 'unfortunately dealing agent santa clara county area ca name andrew left another company called alpine mortgage moved company thats everything went bad responsiveness towards agent clients slow every aspect transaction delayed asking papers th hour killed chances closing time unfortunately andrew done everything help us strong customer service rep would wish services upon home buyer disappointed entirety guys professionalism read',\n",
       " 'adam team apparently communicate extremely disorganized unprofessional would recommend',\n",
       " 'william fine loan officer times good entire experience horrible came actual processing closing underwriter tell additional items needed last week closing feel able give list called check status weeks prior point told everything good go waiting appraisal live hawaii buying means day lag time sign closing actual items demanding would take business days get already purchased airline ticket shipped vehicle household goods compassion came across word god would bow company even offer assistance pay changes time schedule well airfare care comes getting money buying stressful uncalled companies side need reevaluate processes get understanding real customer service respect customer time lives stay far away company read',\n",
       " 'lending tree matching companies offer product requested',\n",
       " 'arbor mortgage failed ways list government shut help situation never situation first place company would increase communication dedication costumer may would recommend chance',\n",
       " 'contacted via email jody martin twice answered questions never heard call good customer service unable approve mortgage fine least let know',\n",
       " 'aweful experience terms service follow overall experience would recommend anyone least louisville ky office loan submitted may told loan mgr daniel dunlop expect closing days august still closed worse part takes average days anyone follow phone call loan mgr daniel dunlop stopped working said making enough money loan pulled weeks hearing anyone find going loan finally called corporate office chicago one calling back freddy western branch manager call follow worse daniel may advertise low apr comes big price worth read',\n",
       " 'able provide viable product needs rude confused upset inability help',\n",
       " 'called seconds submitting lending tree form asked could run numbers later found pulling credit score without permission didnt ask specifics emailed preapproval letter horrible rate',\n",
       " 'spoke lender quite time gave information needed even pulled credit thanks negative ding credit score said sending information continue refinance nothing ever sent called back told someone else sends information would send next day nothing poor poor poor customer service waste time read',\n",
       " 'positive completed mortgage refinance reducing apr however rate available several competitors several offered lower fees also refinancing reinstate va certificate eligibility toward purchase home since rate available elsewhere hired gr based broker claim transaction could completed within weeks less formally began process guaranteed rate july based broker feedback transaction underwriting july rd planned closing date new home purchase month later alerted va refinance close gr full month later aug loan funded aug came within days missing rate lock date new home purchase mortgage communications broker horrible mentioned parallel effort going process obtaining home purchase mortgage another company great basis comparison received information guaranteed rate without ask receive information minimal typically yes answer follow additional questions get clarification details living hired gr definitely receive money worth believe broker loan package spent weeks underwriting btw credit scores issue asked broker never offered rationale delay asked gr sent review two weeks ago surprise heard word back apologizing complete lack customer service trust better guys read',\n",
       " 'tried emailing lender got sent back tried calling lender got busy signal get hold anyone',\n",
       " 'called asked city nh looking told might consider well hung',\n",
       " 'would recommend mortgage company prompt answer soon got appraisal find able refinance return calls fact call find appraisal report bad service',\n",
       " 'new home buying make huge decision like ask lots questions including questions mortgages work want make sure informed enough least shot making intelligent decision asked similar questions several lenders contacted site polite happy answer questions aaron however seemed attitude moment picked phone appeared become annoyed asked questions general tone one rudeness condescension conversation ended aaron cut middle question said well let ask understand said point informed conversation would business company sure aaron guaranteed rate inc think acceptable treat people way expectations similar mine may disappointed service bright side game town plenty companies business treat better aaron read',\n",
       " 'pre approved guaranteed rate information including extensive application full access credit information course stopped dealing lenders made offers entered months long process responding multiple requests documentation everything clearly spelled application needed corroboration whenever sent something would call days later say underwriting required something else account new govt regulations note looking consolidate st mortgages home total asking less home value finally received call loan contact saying credit card balance high give loan unless paid first information along pre approved fact primary reason financing get monthly mortgage payments lower pay credit card balance basically said response acceptable eventually got done however would never recommend thing would give high points responsiveness least agreed go got back quicker anyone go lenders offering similar rates getting back fast gauranteed rate went however process dragged months almost going give loan buyers beware read',\n",
       " 'worked kory carla nasb superb team provided excellent responsive knowledgeable service throughout entire process complicated process refinance loan hung us entire time great experience working highly recommend use future mortgage needs read',\n",
       " 'kory far best loan officer ever worked dealing complicated refinance purchase two different properties cool calm professional extremely knowledgeable throughout entire process use anyone else moving forward level integrity responsiveness second none thanks everything kory read',\n",
       " 'expert loan officer well versed va financial impacts loan component changes best worked across home buying selling deals advocated real estate broker state due ability close complicated high pressure deals places top list years business professionally patiently answers detailed questions rally expanded nasb team also stellar support needs handled complicated va loan seemed change every week tried buy antebellum home tough comps retirement military tough income verification five families swapping homes tons contingencies everything along way mattered aaron nasb team got done even weekends closed time best interest rate market added origination fees look pass opportunity work read',\n",
       " 'nasb team went beyond family closed important va home loan time despite many changes military retirement challenging antebellum home required entire nasb team pull stops know rules regulations guide us tough va process truly believe would closed time different team recommend nasb home loans especially complicate va loans read',\n",
       " 'dallas goodlet entire team deserving special thank professional come closed loan days another competitor originally called saving us thousands current lender real pleasure getting work institution class act like dallas great job',\n",
       " 'comments begin wife point signing completion leader online home mortgage service satisfied origination cost applied lending tree competitive bids several lender matched slightly beat nasb none convincing closing time chose nasb dallas goodlet believability closing sales loan service application process competitive assuring professional timely supportive truthful dallas goodlet brent custer whole nasb team delivered mortgage time price promised completely satisfied appreciative staff product service company kudos read',\n",
       " 'working jon amazing experience start offered answers questions since first home purchase jon always phone call away ready help needed made stringent home buying process easy possible would definitely recommend potential buyers work jon know calling ever decide buy another house thanks jon read',\n",
       " 'nasb amazing work pre approval process easy informational chose home closed within days agreement date thanks nasb making first home purchase amazing experience',\n",
       " 'jon barrett great asset husband made mortgage loan process extremely simple quick jon knowledgeable helpful patient accurate would suggest anyone shopping mortgage loan give jon call',\n",
       " 'jon barrett great asset husband made mortgage loan process extremely simple quick jon knowledgeable helpful patient accurate passing jon name along anyone looking mortgage loan',\n",
       " 'express incredibly awesome experience working bryant small nasb military family purchased refinanced many homes far best experience ever bryant makes easy took time discuss best options us never met bryant mistake authenticity knew instantly nasb going read',\n",
       " 'best loan officer could hoped jeff exceeded expectations worked hard get best rate possible highly recommended',\n",
       " 'adam great work refi attention detail made smooth easy transaction several years since gone thru home loan process unsure start talking adam confident one help us refi professional helpful knowledgeable loan process answered questions timely manner would highly recommend adam would hesitate work read',\n",
       " 'great website knowledgeable responsive always got back us quickly answers questions mortgage process tedious made easy',\n",
       " 'received offers multiple banks lending tree request mortgage alex madewell nasb far best offer made entire process easy knowledgeable closing home seamless surprises would definitely recommend alex madewell nasb anyone looking mortgage',\n",
       " 'rob helpful getting loan closed issues end know still able get done time',\n",
       " 'peter team great work professional prompt responses answered questions somehow got us closing time despite various roadblocks encountered',\n",
       " 'adam came highly recommended first time spoke clear friendly professional knowledgeable worked hard ensure taken care aspects beyond necessary effective communication skills brought personal touch closed sending us hand written note congratulations recommend everyone know buying house read',\n",
       " 'real stand guy beginning mr barrett alievatied uncertainties faced buying first home guidance expertise certainly first time homebuyer would hope beginning end stood us walked us entire process even wire closing mr barrett stepped saved us thousands identifying errounous mistake contract buy call jon thank jon barrett certainly enjoyed working read',\n",
       " 'pleasure working mr barrett nasb please beginning mr barrett guided us journey upmost courtesy respect even closing mr barrett came rescue helping save even money big thanks mr barrett team nasb buy know call',\n",
       " 'first time homebuyer walking blindly bryant became guide recall telling speak mortgage problem bryant kind understanding genuinely cared throughout entire process online application day became homeowners prompt always gave clear explanations happening next steps path would best interest even bumps road smooth would recommend bryant anyone seeking financial wisdom buying refinancing process read',\n",
       " 'got best deal price matched even better fortunate got work',\n",
       " 'alex persistent diligent thorough easy work got excellent rate home next time buy absoltely work',\n",
       " 'wife purchased several homes years worked number different mortgage companies experience jeremy brent custer far best ever experienced ever market definitely back recommend nasb anyone know looking mortgage',\n",
       " 'great customer service always available called respectful thanks working extra hard close time',\n",
       " 'would like thank brent working us kept encouraging us felt would get turned previous lender brent team everything possible meet deadline thanks happy home owners',\n",
       " 'first inquired loan brent months ago told wanted put hold found cost buy lease months contacted morning told time get serious responded within hour rolling weeks later found home wanted make offer weeks later closed home time always knew going talked daily made feel comfortable whole process always felt like control honestly purchasing home much easier thought recommend anyone read',\n",
       " 'ten years since bought house little nervous could afford time around going process adam better work great communicating making feel ease got us best rate dream work completely took anxiety home buying regret using knowledgeable tell really cares read',\n",
       " 'fred nice always available address concerns seems really care customers going refinance never pleasant fred best make painless possible thanks fred best kary',\n",
       " 'worked kory klossner loan officer nasb confirming could offer much lower rate financial institution took additional time explain pros cons different loan types conventional versus va loans kory also took time calculate approximate monthly payments closing costs never felt like pressured rushed decision fact felt quite opposite gave whatever time needed fully understand options make choice right based upon unique circumstances kory went beyond make feel comfortable biggest financial decision life thanks kory stars read',\n",
       " 'worked kory klossner loan officer nasb confirming could offer much lower rate financial institution took additional time explain pros cons different loan types conventional versus va loans kory also took time calculate approximate monthly payments closing costs never felt like pressured rushed decision fact felt quite opposite gave whatever time needed fully understand options make choice right based upon unique circumstances kory went beyond make feel comfortable biggest financial decision life thanks kory stars read',\n",
       " 'pleased aaron customer service father recommended aaron looking buy house aaron fought get best rate made sure everything went planned able move closing date keep rate interest rate aaron told worry would cover cost difference thing pay extra rush appraiser close time would recommend aaron anyone looking buy home know great job like read',\n",
       " 'begin express happiness working aaron professional knowledgeable literally ended saving thousands dollars loan thought good rate spoke able lower almost full saved us hundreds dollars per month able get everything approved closed tight timeline less weeks highly recommend read',\n",
       " 'responsive worked hard get us approved mortgage experience stressful jon really made us feel like someone side thanks everything',\n",
       " 'joey helpful appreciated friendly manner timely responses',\n",
       " 'loan officer joey hartegan friendly helpful wife pleased chose nasb refinance home',\n",
       " 'family shopped around home mortgages currently reside new jersey every mortgage company wanted nearly k close found north american savings bank online steve person assigned work wonderful say least steve would always answer calls emails promptly addition office steve always made sure colleague assisted honestly say enough nasb ultimately able get much lower interest rate monthly payment home highly recommend steve anyone read',\n",
       " 'rc excellent work straight shooter honorable fellow veteran ensured understood happening expect long would take recommend anyone lending needs working va loan need loan officer knows great personally ensure closing time even extremely slow appraiser meet deadlines causing delays still closed time thanks rc professionalism dedication keep word team great work well read',\n",
       " 'smooth experience working va loan closing time nasb extremely easy work veteran want lender understands easily funds va loans nasb meets requirement five stars lenders worked past meet nasb service especially closing time experience recommend highly',\n",
       " 'outstanding service always timely',\n",
       " 'fred went beyond make sure everything went smoothly including making calls vacation fred works hard make dreams come true',\n",
       " 'fast helpful best service possible heartily recommend everyone',\n",
       " 'aaron everything humanly possible get best rate terms possibly could listened responded needs concern care expertise could never anyone could helped caring knowledgable patient responsive individual many thanks mr spring',\n",
       " 'aaron extremely help friendly kept everything always front everything veteran made go extra mile always available talk answer questions first time buying home made painless possible wife nothing great things thank enough helping us process read',\n",
       " 'loan officer team amazing helped us every step way',\n",
       " 'alex extremely helpful always available questions concerns kept constant contact us told us exactly going happening issues came addressed quickly wait longer closing always trying go extra step make sure taken care',\n",
       " 'great service easy',\n",
       " 'pleasure working alex ask better lender',\n",
       " 'good guy work responsive surprises',\n",
       " 'extremely smooth process surprises better expected interest rate',\n",
       " 'fred great worked around schedule always responsive always knew exactly process helped work next',\n",
       " 'worked person name andrew leehy hard working honest person customers interest commission heart',\n",
       " 'fred awesome work knowledgeable field quick respond calls emails made sure loan stayed track closed time days day put contract house highly recommend fred',\n",
       " 'fine bank traditional values great people real bank walks talk real pleasure business',\n",
       " 'joey knowledgeable accessible maintained positive attitude throughout complex refinancing process true partner functionary paperwork trusted judgment never failed also great sense humor',\n",
       " 'hesitant use non local mortgage company loan officer jeremy involved process local loan company used previously customer service knowledge exceeded expectations usually recommend people would consider jeremy trusted friend mortgage business',\n",
       " 'hesitant use non local mortgage company loan officer jeremy involved process local loan company used previously customer service knowledge exceeded expectations usually recommend people would consider jeremy trusted friend mortgage business',\n",
       " 'steve got done others day closing even got things done supervisor get done steve recommended friend glad went great work',\n",
       " 'professional customer oriented',\n",
       " 'steve responsive patient many questions bought house many years big move us praise highly enough highly recommend',\n",
       " 'great bank great products easily best bank worked',\n",
       " 'dallas experienced knowledgeable understand customer service less rain shine dallas always available never missed deadline commitment followup nasb obviously given dallas tools resources successful dallas reason experience stellar',\n",
       " 'extremely impressed proffessionalism quality speed quotes ability communicate preferred methods speed close speaking several loan officers jon barrett nasb us couldnt happier service great work',\n",
       " 'extremely impressed proffessionalism quality speed quotes ability communicate preferred methods speed close speaking several loan officers jon barrett nasb us couldnt happier service great work',\n",
       " 'rc malcolm excellent stayed top everything ensure able close projected close date everything went smooth would recommend rc anyone looking mortgage lender',\n",
       " 'excellent service rc stayed top everythign make sure closed target would recommend anyone looking home loan',\n",
       " 'completed everything time get us quick closing helpful',\n",
       " 'brad helpful entire process first time home buyers fiance felt much better brad expertise guidance',\n",
       " 'recommend everyone know nasb dallas goodlet best experience possible many mortgages lifetime far pleasurable received great rate fees low service dallas provides unmatched talking mortgage industry service best experienced industry maybe ever dallas may want quit mortgage business start customer service consultation business satisfied customer read',\n",
       " 'refinance process dream spoke dallas chose bank husband spoke quite lenders got phone dallas choice firm great know drove crazy made extra stressful technologically illiterate matter fact grandson type review dallas patient understanding us snail mail documents million questions professional entire time one kindest empathetic people ever came across years old many many home buying refinancing experiences far easiest pleasurable want someone truly best interests heart someone completely trust give dallas call already recommended daughter read',\n",
       " 'closing process va loan went smoothly loan servicing called bank complete disaster set loan automatic payments using clunky website unlike banks business nasb website intuitive provide confirmation entries first months payments automatically debited external account scheduled however escrow amount changed nasb debited old amount account sent deficiency letter balance unlike every bank used amount debit automatically debited nasb sent credit counseling letter telling apply loan payment would charge late payment double deficiency change suggested credit counseling services called servicing department representative told letter sent error everything adjusted account showing current two weeks later received total two voice mail messages mail span minutes nasb default department woman first spoke rude said showed record earlier call problem hung second agent man default department said show made automatic payments nasb system set adjust anything years mortgage payments various banks never experienced incompetence rude service specifically instructed last agent request sell servicing loan another bank capable actually performing customer service veteran read',\n",
       " 'miserable experience screwed everything imaginable never accepted responsibility errors wouldnt recommend purchase doghouse much less purchasing new home',\n",
       " 'loan officer happy communicate committed committed communicated us questioned items problems questioned settling rate lock expired idea process unless contacted steve poor poor communication mr kang also sure house would appraise k house talking us loan end appraising causing us refinance lower current mortgage appraiser disorganized called twice pictures forgot used poor comps contacted several times look documents expired could even sign within minutes email notifications good actual settlement sweet competent notary thank goodness done poor process poor communication never recommend nasb already told two people refinancing steer clear read',\n",
       " 'loan officer happy communicate committed committed communicated us questioned items problems questioned settling rate lock expired idea process unless contacted steve poor poor communication loan officer also sure house would appraise k talking us loan interested causing us refinance lower current mortgage appraiser disorganized called twice pictures forgot used poor comps contacted several times look documents expired could even sign within minutes email notifications good actual settlement sweet competent notary thank goodness done poor process poor communication never recommend nasb already told two people refinancing steer clear read',\n",
       " 'started refinance nick things going ok problem credit card fro years earlier must made loan possible would understood never heard called nick several times response even called supervisor response mailed response company want due busness read',\n",
       " 'someone explain apr point higher interest rate fees',\n",
       " 'loan started quite well rep donna friendly quick respond questions clearly explained things would unfold sounded great count bank never kept single promise made problem bank times would ask assurance something donna would respond things would completed wished promise violated bank every single time example first second conversation explained donna wife would traveling country weeks beginning loan process would problem get loan closed said close several weeks wife departure weeks later bank ready close happen donna would ask us email documentation would email back within hours depending occasion donna would assure us documentation sent great bank everything needed weeks later would ask additional documentation happened times later process asked repeats earlier documentation earlier documentation provided old tell patterns recured bank care customers incompetent every time complained additional requests promise kept donna told us complaints justified sorry unable unwilling rectify broken promises finally closed weeks initial application imagine long process would taken responded every request bank day made pushed hard get deal done bank treats customers complete disrespect someone owned several properties life received home mortgages different banks honestly say worst mortgage experience ever owe work another bank professional respectful customers could rate bank lower one star read',\n",
       " 'built new home wanted get small mortgage compared value property process took much longer told would causing mishandling reverification information provided nasb difference opinion necessary close loan made process diffiicult family would recommend north american savings bank amortgage lender read',\n",
       " 'lender contacted previous phone number list registering site unprofessional disturbing',\n",
       " 'never write reviews time prevent anyone making mistake mistake using north american savings bank lenders started refinance company assurance would standard refinance without problems would completed minimal amount time communication company average confirmed would pursuing loan impression loan officer interested attracting business helping company uses convoluted email system sometimes worked mostly led frequent emails phone calls asking documents resent assessment done house paying communication stopped able reach loan officer told would personally find additional comps area little annoyed going paying however complied contacting area realtors securing believe suitable comps forwarded officer week went phone calls emails answered time told comps sufficient result ensure residence worth anything despite assessment findings result would issuing loan time decided honor informing rates risen half point warn loan officer way recording voicemail messages forwarding voicemail account without calling bad news feel like effort avoid conversing stuck assessment banks telling use words pay new assessment also money credit reports course paying higher interest rate new loan secure told loan officer recourse recoup money spent expect paying mistake years point refinanced loan one year ago without issues strongly urge anyone looking refinance obtain new loan bypass north american savings bank matter promise save time money lot aggravation read',\n",
       " 'started bob ran credit check without knowledge consent agreed use nasb bob told could close less weeks took day closing still asking paperwork day closing household goods unpacked told power attorney could used fly id wife take docs notary fedex back also get bank check send docs accept personal check five days later driving id nc coordinate closing docs already sent sale home sent could send four houses purchased past years stressful read',\n",
       " 'horrible experience excellent credit plenty income etc nasb rep made tons promises get us sign weeks closing disappeared failed give us lock firm closing date thankfully sensed problems immediately contacted local lender got us loan better terms lower rates weeks nasb rep constantly complained busy many matters work became apparent towards end sure day want business apparently follow reason another sure good lenders one read',\n",
       " 'rep extremely professional friendly helpful first spoke fact initial round calls thought going select five lending tree lenders plus two banks talked directly sent email lenders saying ok contract signed want select lender lock rate tomorrow please send best current rate fees etc exact loan parameters took rep nasb week respond replied thanks late selected someone else already locked rate following weeks continued receive emails saying ready proceed loan let know closed january th february th got another email guess really ever read emails also told phone missed boat seemed fall deaf ears end round one rates fees competitive though pretty near best bunch read',\n",
       " 'working loan consultant nasb told would give rate year fixed loan total closing cost asked send good faith estimate good faith estimate came total closing cost mentioned conversation called explanation extra said state tax aware explanation knew state beginning repeatedly asked total closing cost time repeatedly said loan consultant known something like state tax might come later mentioned supposed know different compoents fees taxes apply closing everyday could honest beginning expected honest communication loan consultant nasb bank receive disappointed read']"
      ]
     },
     "execution_count": 205,
     "metadata": {},
     "output_type": "execute_result"
    }
   ],
   "source": [
    "#Data after removal of stop words\n",
    "\n",
    "corpus"
   ]
  },
  {
   "cell_type": "code",
   "execution_count": 206,
   "metadata": {
    "scrolled": true
   },
   "outputs": [],
   "source": [
    "#Reducing words to their root word via lemmatization\n",
    "\n",
    "from nltk.stem import WordNetLemmatizer\n",
    "\n",
    "lemmatizer=WordNetLemmatizer()\n",
    "\n",
    "for i in range(len(corpus)):\n",
    "    words = nltk.word_tokenize(corpus[i])\n",
    "    words = [lemmatizer.lemmatize(word) for word in words]\n",
    "    corpus[i] = ' '.join(words)   "
   ]
  },
  {
   "cell_type": "markdown",
   "metadata": {},
   "source": [
    "### Tf-Idf Model"
   ]
  },
  {
   "cell_type": "code",
   "execution_count": 222,
   "metadata": {},
   "outputs": [],
   "source": [
    "# Creating the Tf-Idf Model\n",
    "\n",
    "from sklearn.feature_extraction.text import TfidfVectorizer\n",
    "vectorizer = TfidfVectorizer(max_features = 2000, min_df = 3, max_df = 0.6)\n",
    "X = vectorizer.fit_transform(corpus).toarray()\n"
   ]
  },
  {
   "cell_type": "code",
   "execution_count": 223,
   "metadata": {},
   "outputs": [
    {
     "data": {
      "text/plain": [
       "array([[0.        , 0.        , 0.        , ..., 0.        , 0.        ,\n",
       "        0.        ],\n",
       "       [0.        , 0.        , 0.        , ..., 0.        , 0.        ,\n",
       "        0.        ],\n",
       "       [0.        , 0.        , 0.        , ..., 0.        , 0.        ,\n",
       "        0.        ],\n",
       "       ...,\n",
       "       [0.        , 0.        , 0.        , ..., 0.        , 0.        ,\n",
       "        0.        ],\n",
       "       [0.        , 0.        , 0.        , ..., 0.        , 0.        ,\n",
       "        0.        ],\n",
       "       [0.        , 0.        , 0.        , ..., 0.06206626, 0.        ,\n",
       "        0.        ]])"
      ]
     },
     "execution_count": 223,
     "metadata": {},
     "output_type": "execute_result"
    }
   ],
   "source": [
    "X"
   ]
  },
  {
   "cell_type": "code",
   "execution_count": 227,
   "metadata": {},
   "outputs": [
    {
     "data": {
      "text/plain": [
       "(505, 1167)"
      ]
     },
     "execution_count": 227,
     "metadata": {},
     "output_type": "execute_result"
    }
   ],
   "source": [
    "X.shape"
   ]
  },
  {
   "cell_type": "code",
   "execution_count": 237,
   "metadata": {},
   "outputs": [
    {
     "data": {
      "text/plain": [
       "(505,)"
      ]
     },
     "execution_count": 237,
     "metadata": {},
     "output_type": "execute_result"
    }
   ],
   "source": [
    "y.shape"
   ]
  },
  {
   "cell_type": "markdown",
   "metadata": {},
   "source": [
    "### Train-Test Split"
   ]
  },
  {
   "cell_type": "code",
   "execution_count": 240,
   "metadata": {},
   "outputs": [],
   "source": [
    "# Splitting the dataset into the Training set and Test set\n",
    "\n",
    "from sklearn.model_selection import train_test_split\n",
    "X_train, X_test, y_train, y_test = train_test_split(X, y, test_size = 0.20, random_state = 46)"
   ]
  },
  {
   "cell_type": "markdown",
   "metadata": {},
   "source": [
    "## Model Building"
   ]
  },
  {
   "cell_type": "markdown",
   "metadata": {},
   "source": [
    "\n",
    "\n",
    "### 1. Naive Bayes Model"
   ]
  },
  {
   "cell_type": "code",
   "execution_count": 244,
   "metadata": {},
   "outputs": [],
   "source": [
    "from sklearn.naive_bayes import MultinomialNB "
   ]
  },
  {
   "cell_type": "code",
   "execution_count": 245,
   "metadata": {},
   "outputs": [],
   "source": [
    "nb=MultinomialNB()"
   ]
  },
  {
   "cell_type": "code",
   "execution_count": 246,
   "metadata": {},
   "outputs": [
    {
     "data": {
      "text/plain": [
       "MultinomialNB(alpha=1.0, class_prior=None, fit_prior=True)"
      ]
     },
     "execution_count": 246,
     "metadata": {},
     "output_type": "execute_result"
    }
   ],
   "source": [
    "nb.fit(X_train,y_train)"
   ]
  },
  {
   "cell_type": "code",
   "execution_count": 247,
   "metadata": {},
   "outputs": [],
   "source": [
    "y_pred=nb.predict(X_test)"
   ]
  },
  {
   "cell_type": "code",
   "execution_count": 248,
   "metadata": {},
   "outputs": [
    {
     "name": "stdout",
     "output_type": "stream",
     "text": [
      "0.900990099009901\n"
     ]
    }
   ],
   "source": [
    "# calculate accuracy of class predictions\n",
    "from sklearn import metrics\n",
    "print(metrics.accuracy_score(y_test, y_pred))"
   ]
  },
  {
   "cell_type": "code",
   "execution_count": 250,
   "metadata": {},
   "outputs": [
    {
     "data": {
      "text/html": [
       "<div>\n",
       "<style scoped>\n",
       "    .dataframe tbody tr th:only-of-type {\n",
       "        vertical-align: middle;\n",
       "    }\n",
       "\n",
       "    .dataframe tbody tr th {\n",
       "        vertical-align: top;\n",
       "    }\n",
       "\n",
       "    .dataframe thead th {\n",
       "        text-align: right;\n",
       "    }\n",
       "</style>\n",
       "<table border=\"1\" class=\"dataframe\">\n",
       "  <thead>\n",
       "    <tr style=\"text-align: right;\">\n",
       "      <th></th>\n",
       "      <th>Actual</th>\n",
       "      <th>Predicted</th>\n",
       "    </tr>\n",
       "  </thead>\n",
       "  <tbody>\n",
       "    <tr>\n",
       "      <th>113</th>\n",
       "      <td>1</td>\n",
       "      <td>1</td>\n",
       "    </tr>\n",
       "    <tr>\n",
       "      <th>249</th>\n",
       "      <td>1</td>\n",
       "      <td>1</td>\n",
       "    </tr>\n",
       "    <tr>\n",
       "      <th>432</th>\n",
       "      <td>1</td>\n",
       "      <td>1</td>\n",
       "    </tr>\n",
       "    <tr>\n",
       "      <th>422</th>\n",
       "      <td>1</td>\n",
       "      <td>1</td>\n",
       "    </tr>\n",
       "    <tr>\n",
       "      <th>165</th>\n",
       "      <td>1</td>\n",
       "      <td>1</td>\n",
       "    </tr>\n",
       "  </tbody>\n",
       "</table>\n",
       "</div>"
      ],
      "text/plain": [
       "     Actual  Predicted\n",
       "113       1          1\n",
       "249       1          1\n",
       "432       1          1\n",
       "422       1          1\n",
       "165       1          1"
      ]
     },
     "execution_count": 250,
     "metadata": {},
     "output_type": "execute_result"
    }
   ],
   "source": [
    "pd.DataFrame({'Actual':y_test,'Predicted':y_pred}).head()"
   ]
  },
  {
   "cell_type": "code",
   "execution_count": 252,
   "metadata": {},
   "outputs": [
    {
     "name": "stdout",
     "output_type": "stream",
     "text": [
      "[[ 5  1]\n",
      " [ 9 86]]\n"
     ]
    }
   ],
   "source": [
    "# confusion matrix\n",
    "print(metrics.confusion_matrix(y_pred, y_test))\n"
   ]
  },
  {
   "cell_type": "code",
   "execution_count": 257,
   "metadata": {},
   "outputs": [],
   "source": [
    " # predict (poorly calibrated) probabilities\n",
    "    \n",
    "y_pred_prob = nb.predict_proba(X_test)[:, 1]\n"
   ]
  },
  {
   "cell_type": "code",
   "execution_count": 258,
   "metadata": {
    "scrolled": true
   },
   "outputs": [
    {
     "name": "stdout",
     "output_type": "stream",
     "text": [
      "0.9917898193760263\n"
     ]
    }
   ],
   "source": [
    "# calculate AUC\n",
    "print(metrics.roc_auc_score(y_test, y_pred_prob))\n"
   ]
  },
  {
   "cell_type": "markdown",
   "metadata": {},
   "source": [
    "## 2. Logistic Model"
   ]
  },
  {
   "cell_type": "code",
   "execution_count": 259,
   "metadata": {},
   "outputs": [
    {
     "name": "stdout",
     "output_type": "stream",
     "text": [
      "(505, 1167)\n",
      "(505,)\n"
     ]
    }
   ],
   "source": [
    "print(X.shape)\n",
    "print(y.shape)"
   ]
  },
  {
   "cell_type": "markdown",
   "metadata": {},
   "source": [
    "the number of columns is greater than number of rows also the number of variables are very large. So to combat both these\n",
    "issues we will use PCA"
   ]
  },
  {
   "cell_type": "code",
   "execution_count": 261,
   "metadata": {},
   "outputs": [],
   "source": [
    "    from sklearn.decomposition import PCA"
   ]
  },
  {
   "cell_type": "code",
   "execution_count": 273,
   "metadata": {},
   "outputs": [],
   "source": [
    "#Calulating variance expresed by diffrent components\n",
    "\n",
    "var_ratio={}\n",
    "for n in range(220,230):\n",
    "    pca=PCA(n_components=n)\n",
    "    X_pca=pca.fit(X)\n",
    "    var_ratio[n]=sum(X_pca.explained_variance_ratio_)"
   ]
  },
  {
   "cell_type": "code",
   "execution_count": 274,
   "metadata": {},
   "outputs": [
    {
     "data": {
      "text/plain": [
       "{220: 0.8966855523066326,\n",
       " 221: 0.8979951308706458,\n",
       " 222: 0.8993345394539061,\n",
       " 223: 0.900669347482087,\n",
       " 224: 0.9018024464559267,\n",
       " 225: 0.9032016885699334,\n",
       " 226: 0.9043136818834866,\n",
       " 227: 0.9057988463034862,\n",
       " 228: 0.9070961044256947,\n",
       " 229: 0.9082141748190926}"
      ]
     },
     "execution_count": 274,
     "metadata": {},
     "output_type": "execute_result"
    }
   ],
   "source": [
    "var_ratio"
   ]
  },
  {
   "cell_type": "code",
   "execution_count": 282,
   "metadata": {},
   "outputs": [
    {
     "data": {
      "text/plain": [
       "<matplotlib.axes._subplots.AxesSubplot at 0x736335fdd8>"
      ]
     },
     "execution_count": 282,
     "metadata": {},
     "output_type": "execute_result"
    },
    {
     "data": {
      "image/png": "[encoded data removed]",
      "text/plain": [
       "<Figure size 432x288 with 1 Axes>"
      ]
     },
     "metadata": {
      "needs_background": "light"
     },
     "output_type": "display_data"
    }
   ],
   "source": [
    "pd.Series(var_ratio).plot()"
   ]
  },
  {
   "cell_type": "markdown",
   "metadata": {},
   "source": [
    "##### So 223 components express 90% of the variance "
   ]
  },
  {
   "cell_type": "code",
   "execution_count": 283,
   "metadata": {},
   "outputs": [],
   "source": [
    "#BUilding final pca of 223 components\n",
    "\n",
    "final_pca=PCA(n_components=223)\n",
    "reduced_X=final_pca.fit_transform(X)"
   ]
  },
  {
   "cell_type": "code",
   "execution_count": 285,
   "metadata": {},
   "outputs": [],
   "source": [
    "reduced_X_df=pd.DataFrame(reduced_X)"
   ]
  },
  {
   "cell_type": "code",
   "execution_count": 286,
   "metadata": {},
   "outputs": [
    {
     "data": {
      "text/html": [
       "<div>\n",
       "<style scoped>\n",
       "    .dataframe tbody tr th:only-of-type {\n",
       "        vertical-align: middle;\n",
       "    }\n",
       "\n",
       "    .dataframe tbody tr th {\n",
       "        vertical-align: top;\n",
       "    }\n",
       "\n",
       "    .dataframe thead th {\n",
       "        text-align: right;\n",
       "    }\n",
       "</style>\n",
       "<table border=\"1\" class=\"dataframe\">\n",
       "  <thead>\n",
       "    <tr style=\"text-align: right;\">\n",
       "      <th></th>\n",
       "      <th>0</th>\n",
       "      <th>1</th>\n",
       "      <th>2</th>\n",
       "      <th>3</th>\n",
       "      <th>4</th>\n",
       "      <th>5</th>\n",
       "      <th>6</th>\n",
       "      <th>7</th>\n",
       "      <th>8</th>\n",
       "      <th>9</th>\n",
       "      <th>...</th>\n",
       "      <th>213</th>\n",
       "      <th>214</th>\n",
       "      <th>215</th>\n",
       "      <th>216</th>\n",
       "      <th>217</th>\n",
       "      <th>218</th>\n",
       "      <th>219</th>\n",
       "      <th>220</th>\n",
       "      <th>221</th>\n",
       "      <th>222</th>\n",
       "    </tr>\n",
       "  </thead>\n",
       "  <tbody>\n",
       "    <tr>\n",
       "      <th>0</th>\n",
       "      <td>0.121591</td>\n",
       "      <td>-0.066736</td>\n",
       "      <td>-0.024976</td>\n",
       "      <td>-0.009834</td>\n",
       "      <td>-0.066199</td>\n",
       "      <td>0.001021</td>\n",
       "      <td>0.142962</td>\n",
       "      <td>0.027427</td>\n",
       "      <td>-0.083598</td>\n",
       "      <td>-0.048922</td>\n",
       "      <td>...</td>\n",
       "      <td>0.035048</td>\n",
       "      <td>-0.005314</td>\n",
       "      <td>-0.017126</td>\n",
       "      <td>0.020151</td>\n",
       "      <td>0.003404</td>\n",
       "      <td>0.004613</td>\n",
       "      <td>0.003534</td>\n",
       "      <td>0.007536</td>\n",
       "      <td>0.027511</td>\n",
       "      <td>-0.006571</td>\n",
       "    </tr>\n",
       "    <tr>\n",
       "      <th>1</th>\n",
       "      <td>0.127738</td>\n",
       "      <td>-0.135750</td>\n",
       "      <td>0.185658</td>\n",
       "      <td>-0.025311</td>\n",
       "      <td>-0.099003</td>\n",
       "      <td>0.037448</td>\n",
       "      <td>0.005655</td>\n",
       "      <td>-0.088646</td>\n",
       "      <td>-0.097157</td>\n",
       "      <td>0.032277</td>\n",
       "      <td>...</td>\n",
       "      <td>0.088510</td>\n",
       "      <td>0.033837</td>\n",
       "      <td>0.006329</td>\n",
       "      <td>-0.030541</td>\n",
       "      <td>0.021107</td>\n",
       "      <td>-0.031671</td>\n",
       "      <td>-0.027394</td>\n",
       "      <td>-0.003638</td>\n",
       "      <td>0.025007</td>\n",
       "      <td>0.011467</td>\n",
       "    </tr>\n",
       "    <tr>\n",
       "      <th>2</th>\n",
       "      <td>-0.013952</td>\n",
       "      <td>0.071219</td>\n",
       "      <td>0.015324</td>\n",
       "      <td>-0.047229</td>\n",
       "      <td>-0.046701</td>\n",
       "      <td>0.069047</td>\n",
       "      <td>0.046206</td>\n",
       "      <td>0.030365</td>\n",
       "      <td>-0.024187</td>\n",
       "      <td>-0.084135</td>\n",
       "      <td>...</td>\n",
       "      <td>0.032597</td>\n",
       "      <td>-0.006671</td>\n",
       "      <td>0.004198</td>\n",
       "      <td>0.015728</td>\n",
       "      <td>0.001193</td>\n",
       "      <td>0.024306</td>\n",
       "      <td>-0.052985</td>\n",
       "      <td>-0.011431</td>\n",
       "      <td>-0.067317</td>\n",
       "      <td>0.009647</td>\n",
       "    </tr>\n",
       "    <tr>\n",
       "      <th>3</th>\n",
       "      <td>-0.015950</td>\n",
       "      <td>0.053117</td>\n",
       "      <td>0.014675</td>\n",
       "      <td>-0.053434</td>\n",
       "      <td>-0.054109</td>\n",
       "      <td>0.031846</td>\n",
       "      <td>0.095954</td>\n",
       "      <td>-0.016204</td>\n",
       "      <td>-0.026354</td>\n",
       "      <td>-0.062357</td>\n",
       "      <td>...</td>\n",
       "      <td>0.013297</td>\n",
       "      <td>-0.038802</td>\n",
       "      <td>0.011590</td>\n",
       "      <td>0.014669</td>\n",
       "      <td>-0.050036</td>\n",
       "      <td>-0.014346</td>\n",
       "      <td>-0.033116</td>\n",
       "      <td>0.012815</td>\n",
       "      <td>-0.008634</td>\n",
       "      <td>-0.015152</td>\n",
       "    </tr>\n",
       "    <tr>\n",
       "      <th>4</th>\n",
       "      <td>0.063473</td>\n",
       "      <td>0.017706</td>\n",
       "      <td>0.035185</td>\n",
       "      <td>-0.142096</td>\n",
       "      <td>-0.055783</td>\n",
       "      <td>-0.005246</td>\n",
       "      <td>-0.010528</td>\n",
       "      <td>-0.056163</td>\n",
       "      <td>-0.024821</td>\n",
       "      <td>0.019062</td>\n",
       "      <td>...</td>\n",
       "      <td>0.055371</td>\n",
       "      <td>-0.076816</td>\n",
       "      <td>0.006830</td>\n",
       "      <td>0.026681</td>\n",
       "      <td>-0.075785</td>\n",
       "      <td>-0.094002</td>\n",
       "      <td>-0.032232</td>\n",
       "      <td>-0.043025</td>\n",
       "      <td>-0.037093</td>\n",
       "      <td>-0.033319</td>\n",
       "    </tr>\n",
       "  </tbody>\n",
       "</table>\n",
       "<p>5 rows × 223 columns</p>\n",
       "</div>"
      ],
      "text/plain": [
       "        0         1         2         3         4         5         6    \\\n",
       "0  0.121591 -0.066736 -0.024976 -0.009834 -0.066199  0.001021  0.142962   \n",
       "1  0.127738 -0.135750  0.185658 -0.025311 -0.099003  0.037448  0.005655   \n",
       "2 -0.013952  0.071219  0.015324 -0.047229 -0.046701  0.069047  0.046206   \n",
       "3 -0.015950  0.053117  0.014675 -0.053434 -0.054109  0.031846  0.095954   \n",
       "4  0.063473  0.017706  0.035185 -0.142096 -0.055783 -0.005246 -0.010528   \n",
       "\n",
       "        7         8         9      ...          213       214       215  \\\n",
       "0  0.027427 -0.083598 -0.048922    ...     0.035048 -0.005314 -0.017126   \n",
       "1 -0.088646 -0.097157  0.032277    ...     0.088510  0.033837  0.006329   \n",
       "2  0.030365 -0.024187 -0.084135    ...     0.032597 -0.006671  0.004198   \n",
       "3 -0.016204 -0.026354 -0.062357    ...     0.013297 -0.038802  0.011590   \n",
       "4 -0.056163 -0.024821  0.019062    ...     0.055371 -0.076816  0.006830   \n",
       "\n",
       "        216       217       218       219       220       221       222  \n",
       "0  0.020151  0.003404  0.004613  0.003534  0.007536  0.027511 -0.006571  \n",
       "1 -0.030541  0.021107 -0.031671 -0.027394 -0.003638  0.025007  0.011467  \n",
       "2  0.015728  0.001193  0.024306 -0.052985 -0.011431 -0.067317  0.009647  \n",
       "3  0.014669 -0.050036 -0.014346 -0.033116  0.012815 -0.008634 -0.015152  \n",
       "4  0.026681 -0.075785 -0.094002 -0.032232 -0.043025 -0.037093 -0.033319  \n",
       "\n",
       "[5 rows x 223 columns]"
      ]
     },
     "execution_count": 286,
     "metadata": {},
     "output_type": "execute_result"
    }
   ],
   "source": [
    "reduced_X_df.head()"
   ]
  },
  {
   "cell_type": "code",
   "execution_count": 288,
   "metadata": {},
   "outputs": [
    {
     "data": {
      "text/plain": [
       "(505, 223)"
      ]
     },
     "execution_count": 288,
     "metadata": {},
     "output_type": "execute_result"
    }
   ],
   "source": [
    "reduced_X_df.shape"
   ]
  },
  {
   "cell_type": "code",
   "execution_count": 290,
   "metadata": {},
   "outputs": [],
   "source": [
    "train_X,test_X,train_y,test_y=train_test_split(reduced_X_df,y,test_size=0.20,random_state=679)"
   ]
  },
  {
   "cell_type": "code",
   "execution_count": 291,
   "metadata": {},
   "outputs": [],
   "source": [
    "from sklearn.linear_model import LogisticRegression"
   ]
  },
  {
   "cell_type": "code",
   "execution_count": 292,
   "metadata": {},
   "outputs": [],
   "source": [
    "lr=LogisticRegression()"
   ]
  },
  {
   "cell_type": "code",
   "execution_count": 293,
   "metadata": {},
   "outputs": [
    {
     "name": "stderr",
     "output_type": "stream",
     "text": [
      "C:\\ProgramData\\Anaconda3\\lib\\site-packages\\sklearn\\linear_model\\logistic.py:433: FutureWarning: Default solver will be changed to 'lbfgs' in 0.22. Specify a solver to silence this warning.\n",
      "  FutureWarning)\n"
     ]
    },
    {
     "data": {
      "text/plain": [
       "LogisticRegression(C=1.0, class_weight=None, dual=False, fit_intercept=True,\n",
       "          intercept_scaling=1, max_iter=100, multi_class='warn',\n",
       "          n_jobs=None, penalty='l2', random_state=None, solver='warn',\n",
       "          tol=0.0001, verbose=0, warm_start=False)"
      ]
     },
     "execution_count": 293,
     "metadata": {},
     "output_type": "execute_result"
    }
   ],
   "source": [
    "lr.fit(train_X,train_y)"
   ]
  },
  {
   "cell_type": "code",
   "execution_count": 295,
   "metadata": {},
   "outputs": [],
   "source": [
    "y_pred=lr.predict(test_X)"
   ]
  },
  {
   "cell_type": "code",
   "execution_count": 296,
   "metadata": {},
   "outputs": [
    {
     "name": "stdout",
     "output_type": "stream",
     "text": [
      "0.8613861386138614\n"
     ]
    }
   ],
   "source": [
    "# calculate accuracy of class predictions\n",
    "\n",
    "print(metrics.accuracy_score(test_y, y_pred))"
   ]
  },
  {
   "cell_type": "code",
   "execution_count": 297,
   "metadata": {},
   "outputs": [
    {
     "name": "stdout",
     "output_type": "stream",
     "text": [
      "[[ 6  0]\n",
      " [14 81]]\n"
     ]
    }
   ],
   "source": [
    "# confusion matrix\n",
    "print(metrics.confusion_matrix(y_pred, test_y))\n"
   ]
  },
  {
   "cell_type": "code",
   "execution_count": 300,
   "metadata": {},
   "outputs": [
    {
     "data": {
      "text/html": [
       "<div>\n",
       "<style scoped>\n",
       "    .dataframe tbody tr th:only-of-type {\n",
       "        vertical-align: middle;\n",
       "    }\n",
       "\n",
       "    .dataframe tbody tr th {\n",
       "        vertical-align: top;\n",
       "    }\n",
       "\n",
       "    .dataframe thead th {\n",
       "        text-align: right;\n",
       "    }\n",
       "</style>\n",
       "<table border=\"1\" class=\"dataframe\">\n",
       "  <thead>\n",
       "    <tr style=\"text-align: right;\">\n",
       "      <th></th>\n",
       "      <th>Actual</th>\n",
       "      <th>Predicted</th>\n",
       "    </tr>\n",
       "  </thead>\n",
       "  <tbody>\n",
       "    <tr>\n",
       "      <th>482</th>\n",
       "      <td>1</td>\n",
       "      <td>1</td>\n",
       "    </tr>\n",
       "    <tr>\n",
       "      <th>485</th>\n",
       "      <td>1</td>\n",
       "      <td>1</td>\n",
       "    </tr>\n",
       "    <tr>\n",
       "      <th>149</th>\n",
       "      <td>1</td>\n",
       "      <td>1</td>\n",
       "    </tr>\n",
       "    <tr>\n",
       "      <th>178</th>\n",
       "      <td>1</td>\n",
       "      <td>1</td>\n",
       "    </tr>\n",
       "    <tr>\n",
       "      <th>271</th>\n",
       "      <td>1</td>\n",
       "      <td>1</td>\n",
       "    </tr>\n",
       "  </tbody>\n",
       "</table>\n",
       "</div>"
      ],
      "text/plain": [
       "     Actual  Predicted\n",
       "482       1          1\n",
       "485       1          1\n",
       "149       1          1\n",
       "178       1          1\n",
       "271       1          1"
      ]
     },
     "execution_count": 300,
     "metadata": {},
     "output_type": "execute_result"
    }
   ],
   "source": [
    "pd.DataFrame({'Actual':test_y,'Predicted':y_pred}).head()"
   ]
  },
  {
   "cell_type": "code",
   "execution_count": 302,
   "metadata": {},
   "outputs": [],
   "source": [
    "# predict (poorly calibrated) probabilities\n",
    "    \n",
    "y_pred_prob = lr.predict_proba(test_X)[:, 1]\n"
   ]
  },
  {
   "cell_type": "code",
   "execution_count": 303,
   "metadata": {},
   "outputs": [
    {
     "name": "stdout",
     "output_type": "stream",
     "text": [
      "0.9845679012345678\n"
     ]
    }
   ],
   "source": [
    "# calculate AUC\n",
    "print(metrics.roc_auc_score(test_y, y_pred_prob))\n"
   ]
  }
 ],
 "metadata": {
  "kernelspec": {
   "display_name": "Python 3",
   "language": "python",
   "name": "python3"
  },
  "language_info": {
   "codemirror_mode": {
    "name": "ipython",
    "version": 3
   },
   "file_extension": ".py",
   "mimetype": "text/x-python",
   "name": "python",
   "nbconvert_exporter": "python",
   "pygments_lexer": "ipython3",
   "version": "3.7.1"
  }
 },
 "nbformat": 4,
 "nbformat_minor": 2
}
